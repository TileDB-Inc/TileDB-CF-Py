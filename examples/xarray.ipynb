{
 "cells": [
  {
   "cell_type": "code",
   "execution_count": null,
   "source": [
    "import tiledb\n",
    "import xarray as xr\n",
    "import numpy as np"
   ],
   "outputs": [],
   "metadata": {}
  },
  {
   "cell_type": "markdown",
   "source": [
    "# TileDB Backend for xarray\n",
    "\n",
    "This example shows how to use the TileDB backend for xarray. This example requires `tiledb-cf` to be installed and uses the `tiledb`, `xarray`, and `numpy` libraries. \n"
   ],
   "metadata": {}
  },
  {
   "cell_type": "markdown",
   "source": [
    "## Example 1. Opening a dense array\n",
    "\n",
    "The TileDB-xarray backend supports opening dense arrays in xarray. Integer TileDB dimensions that have a domain that starts with `0` are treated as NetCDF-like dimensions. Dimensions that start at a different value or have a non-integer domain are treated like NetCDF coordinates.\n",
    "\n",
    "In this example, we create an array with the following properties:\n",
    "\n",
    "Dimensions:\n",
    "\n",
    "| Name | Domain   | Data Type |\n",
    "|:----:|:---------|:----------|\n",
    "| x    | (0, 99)  | uint64    |\n",
    "| y    | (0, 149) | uint64    |\n",
    "| t    | (1, 36)  | uint64    |\n",
    "\n",
    "Attributes:\n",
    "\n",
    "| Name    | Data Type | Details                        |\n",
    "|:-------:|:----------|:-------------------------------|\n",
    "| ripple1 | float64   | sin(t * (x^2 + y^2)) / (t + 1) |\n",
    "| riplle2 | float64   | cos(t * (x^2 + y^2)) / (t + 1) |\n",
    "\n",
    "Here, xarray will open `x` and `y` as dimensions, `t` as a coordinate, and `ripple1` and `ripple2` as variables.\n",
    "\n",
    "To assign xarray attributes (metadata) to variables and coordinates we use the prefix `__tiledb_attr.{attr_name}.` or `__tiledb_dim.{dim_name}` before the TileDB metadata keyword."
   ],
   "metadata": {}
  },
  {
   "cell_type": "code",
   "execution_count": null,
   "source": [
    "uri1 = \"output/xarray-example-1\"\n",
    "if not tiledb.object_type(uri1):\n",
    "    x_size = 100\n",
    "    y_size = 250\n",
    "    t_size = 36\n",
    "    schema = tiledb.ArraySchema(\n",
    "        domain=tiledb.Domain(\n",
    "            tiledb.Dim(\"x\", domain=(0, x_size - 1), dtype=np.uint64),\n",
    "            tiledb.Dim(\"y\", domain=(0, y_size - 1), dtype=np.uint64),\n",
    "            tiledb.Dim(\"time\", domain=(1, t_size), dtype=np.uint64),\n",
    "        ),\n",
    "        attrs=(\n",
    "            tiledb.Attr(\"ripple1\", np.float64),\n",
    "            tiledb.Attr(\"ripple2\", np.float64),\n",
    "        ),\n",
    "    )\n",
    "    tiledb.Array.create(uri1, schema)\n",
    "    with tiledb.open(uri1, mode=\"w\") as array:\n",
    "        array[:, :, :] = {\n",
    "            \"ripple1\": np.fromfunction(\n",
    "                lambda x,y,t: np.sin(t * (x ** 2 + y **2 )) / (t + 1), \n",
    "                (x_size, y_size, t_size)\n",
    "            ),\n",
    "            \"ripple2\": np.fromfunction(\n",
    "                lambda x,y,t: np.cos(t * (x ** 2 + y **2 )) / (t + 1), \n",
    "                (x_size, y_size, t_size)\n",
    "            ),\n",
    "        }\n",
    "        array.meta[\"__tiledb_attr.ripple1.description\"] = \"sin(t * (x^2 + y^2)) / (t + 1)\"\n",
    "        array.meta[\"__tiledb_attr.ripple2.description\"] = \"cos(t * (x^2 + y^2)) / (t + 1)\"\n",
    "        array.meta[\"__tiledb_dim.time.description\"] = \"time in seconds\"\n",
    "        array.meta[\"description\"] = \"Small example dense array\"\n",
    "else:\n",
    "    print(f\"A TileDB {tiledb.object_type(uri1)} already exists at '{uri1}'\")"
   ],
   "outputs": [],
   "metadata": {}
  },
  {
   "cell_type": "markdown",
   "source": [
    "The TileDB array is opened with xarray using the `tiledb` engine. This allows for xarray to access the data using it's standard lazy-loading. Once we've created the dataspace we can access and slice the data using standard xarray capabilities."
   ],
   "metadata": {}
  },
  {
   "cell_type": "code",
   "execution_count": null,
   "source": [
    "ds = xr.open_dataset(uri1, engine=\"tiledb\")\n",
    "ds"
   ],
   "outputs": [],
   "metadata": {}
  },
  {
   "cell_type": "markdown",
   "source": [],
   "metadata": {}
  },
  {
   "cell_type": "markdown",
   "source": [
    "## Example 2. Handling Coordinates\n",
    "\n",
    "In TileDB, an attribute and a dimension in the same array cannot have the same name. In order to handle \"coordinates\" (a xarray variable and dimension with the same name), the suffix `.data` and `.index` will be stripped from the name of TileDB attributes and dimensions.\n",
    "\n",
    "In this example, we show creating a coordinate for a one-dimension TileDB array."
   ],
   "metadata": {}
  },
  {
   "cell_type": "code",
   "execution_count": null,
   "source": [
    "uri2 = \"output/xarray-example-2\"\n",
    "if not tiledb.object_type(uri2):\n",
    "    schema = tiledb.ArraySchema(\n",
    "        domain=tiledb.Domain(tiledb.Dim(\"x\", domain=(0, 63), dtype=np.int64)),\n",
    "        attrs=[\n",
    "            tiledb.Attr(\"x.data\", np.float64),\n",
    "            tiledb.Attr(\"y\", np.float64),\n",
    "        ]\n",
    "    )\n",
    "    tiledb.Array.create(uri2, schema)\n",
    "    x_values = np.linspace(-1.0, 1.0, 64)\n",
    "    with tiledb.open(uri2, mode=\"w\") as array:\n",
    "        array[:] = {\n",
    "            \"x.data\": x_values,\n",
    "            \"y\": np.exp(- x_values / 2.0)\n",
    "        }\n",
    "else:\n",
    "    print(f\"A TileDB {tiledb.object_type(uri2)} already exists at '{uri2}'\")"
   ],
   "outputs": [],
   "metadata": {}
  },
  {
   "cell_type": "code",
   "execution_count": null,
   "source": [
    "ds2 = xr.open_dataset(uri2, engine=\"tiledb\")\n",
    "ds2"
   ],
   "outputs": [],
   "metadata": {}
  },
  {
   "cell_type": "code",
   "execution_count": null,
   "source": [
    "ds2.plot.scatter(x=\"x\", y=\"y\")"
   ],
   "outputs": [],
   "metadata": {}
  }
 ],
 "metadata": {
  "orig_nbformat": 4,
  "language_info": {
   "name": "python",
   "version": "3.9.0",
   "mimetype": "text/x-python",
   "codemirror_mode": {
    "name": "ipython",
    "version": 3
   },
   "pygments_lexer": "ipython3",
   "nbconvert_exporter": "python",
   "file_extension": ".py"
  },
  "kernelspec": {
   "name": "python3",
   "display_name": "Python 3.9.0 64-bit ('cf-3.9.0': pyenv)"
  },
  "interpreter": {
   "hash": "f83ddd6991e62697b8e1c78d35b449f256fb868317b9158045034ef8d7136941"
  }
 },
 "nbformat": 4,
 "nbformat_minor": 2
}