{
 "metadata": {
  "language_info": {
   "codemirror_mode": {
    "name": "ipython",
    "version": 3
   },
   "file_extension": ".py",
   "mimetype": "text/x-python",
   "name": "python",
   "nbconvert_exporter": "python",
   "pygments_lexer": "ipython3",
   "version": "3.9.0"
  },
  "orig_nbformat": 2,
  "kernelspec": {
   "name": "python3",
   "display_name": "Python 3.9.0 64-bit ('cf-3.9.0': pyenv)"
  },
  "interpreter": {
   "hash": "f83ddd6991e62697b8e1c78d35b449f256fb868317b9158045034ef8d7136941"
  }
 },
 "nbformat": 4,
 "nbformat_minor": 2,
 "cells": [
  {
   "source": [
    "# Example - Using TileDB Groups\n",
    "\n",
    "When using TileDB, it is often the case you can fit all relevant data inside a single TileDB array. However, sometimes a dataset will include multiple related arrays.\n",
    "\n",
    "In this tutorial, you will see how to use the `Group` and `GroupSchema` classes from TileDB-CF to create, inspect, open, read, and write data to arrays in a TileDB group.\n",
    "\n",
    "First, we import the relevant libraries:"
   ],
   "cell_type": "markdown",
   "metadata": {}
  },
  {
   "cell_type": "code",
   "execution_count": null,
   "metadata": {},
   "outputs": [],
   "source": [
    "import numpy as np\n",
    "import tiledb\n",
    "from tiledb.cf import Group, GroupSchema\n",
    "from mpl_toolkits.mplot3d import Axes3D\n",
    "import matplotlib.pyplot as plt"
   ]
  },
  {
   "source": [
    "Next, we will generate the group schema for the TileDB group. The group schema will include array schemas for all arrays in the group.\n",
    "\n",
    "\n"
   ],
   "cell_type": "markdown",
   "metadata": {}
  },
  {
   "source": [
    "# Create a TileDB-CF GroupSchema\n",
    "group_schema = GroupSchema(\n",
    "    ... # todo create a good example group schema \n",
    ")"
   ],
   "cell_type": "code",
   "metadata": {},
   "execution_count": null,
   "outputs": []
  },
  {
   "source": [
    "The `group_schema` is used to generate all arrays for a TileDB group at once, including an optional array for group-level metadata. The arrays are generated using the `create` method from the `Group` class.\n",
    "\n",
    "Here we will first check if the group already exists at our intended location. If it doesn't exist, we will create a new group. "
   ],
   "cell_type": "markdown",
   "metadata": {}
  },
  {
   "cell_type": "code",
   "execution_count": null,
   "metadata": {},
   "outputs": [],
   "source": [
    "group_uri = \"output/example_group\"\n",
    "if tiledb.object_type(group_uri) is None:\n",
    "    Group.create(\"output/example_group\", group_schema)"
   ]
  },
  {
   "source": [
    "Once the group is created, we can open arrays in the group to write data."
   ],
   "cell_type": "markdown",
   "metadata": {}
  },
  {
   "cell_type": "code",
   "execution_count": null,
   "metadata": {},
   "outputs": [],
   "source": [
    "# Write data to the group. Should include opening a group by array name and:\n",
    "#  1. writing values to the attributes (using `group.array`)\n",
    "#  2. writing to group metadata (using `group.meta`)\n",
    "#  3. writing to array metadata (using `group.array_metadata` or `group.array.meta`)\n",
    "#  4. writing to attribute metadata (using `group.get_attr_metadata`)\n",
    "with Group(array=\"array_name\", mode=\"w\") as group:\n",
    "    # group.array[:, :] = {\n",
    "    #   \"attr1\": values, \n",
    "    #    # ...,\n",
    "    #}"
   ]
  },
  {
   "source": [
    "If there is only one attribute in the group with a specific name, we can also open the array by that contains that attribute by only specifying the attribute name."
   ],
   "cell_type": "markdown",
   "metadata": {}
  },
  {
   "cell_type": "code",
   "execution_count": null,
   "metadata": {},
   "outputs": [],
   "source": [
    "# Show writing data to an attribute in the group.\n",
    "#  1. writing values to the attributes using `group.array`\n",
    "#  2. writing to group metadata using `group.meta`\n",
    "#  3. writing to array metadata using `group.array_metadata` or `group.array.meta`\n",
    "#  4. writing to attribute metadata using `group.get_attr_metadata`\n",
    "with Group(attr=\"array_name\", mode=\"w\") as group:\n",
    "    # group.array[:, :] = {\n",
    "    #   \"attr1\": values, \n",
    "    #    # ...,\n",
    "    #}"
   ]
  },
  {
   "cell_type": "code",
   "execution_count": null,
   "metadata": {},
   "outputs": [],
   "source": [
    "# Show reading data from the group. Maybe add a plot after reading? Includes:\n",
    "# 1. reading values from the group using both opening by `Group(array=...)` and opening by `Group(attr=...)`\n",
    "# 2. show the different between metadata with `group.array_metadata` and `group.array.meta`\n",
    "# 3. read attribute metadata using `group.get_attr_metadata`\n",
    "# 4. read group level metadata with `group.meta`"
   ]
  },
  {
   "source": [
    "# Show loading the GroupSchema from group URI."
   ],
   "cell_type": "code",
   "metadata": {},
   "execution_count": null,
   "outputs": []
  }
 ]
}