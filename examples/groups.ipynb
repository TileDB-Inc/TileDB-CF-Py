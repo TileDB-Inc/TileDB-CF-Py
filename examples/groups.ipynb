{
 "cells": [
  {
   "cell_type": "markdown",
   "metadata": {},
   "source": [
    "# Working with Arrays in a TileDB Group\n",
    "\n",
    "This notebook contains an example of how to use the `Group` and `GroupSchema` classes from TileDB-CF to create, inspect, open, read, and write data to arrays in a TileDB group.\n",
    "\n",
    "### Data\n",
    "\n",
    "The following arrays will be created that share some of their dimensions:\n",
    "\n",
    "* `dense_3d` is a dense array with dimensions `dense_x`, `dense_y` and `dense_t`\n",
    "* `dense_2d` is a dense array with dimensions `dense_x` and `dense_y`\n",
    "* `dense_1d` is a dense array with dimension `dense_t`\n",
    "* `sparse_4d` is a sparse array with dimensions `sparse_x` `sparse_y` `sparse_z` and `sparse_t`\n",
    "* `dense_axes_xy` is a dense array that contains the values of the `dense_x` and `dense_y` dimensions as `dense_x_data` and `dense_y_data` \n",
    "* `dense_axes_t` is a dense array that contains the values of the `dense_t` dimension as `dense_t_data`\n",
    "* `sparse_axes` is a sparse array that contains the values of the `sparse_x` `sparse_y` `sparse_z` and `sparse_t` dimensions as `sparse_x_data` `sparse_y_data` `sparse_z_data` and `sparse_t_data`\n",
    "\n",
    "### Packages\n",
    "\n",
    "Import the libraries used in this notebook:"
   ]
  },
  {
   "cell_type": "code",
   "execution_count": null,
   "metadata": {},
   "outputs": [],
   "source": [
    "import time\n",
    "import numpy as np\n",
    "import pandas as pd \n",
    "from mpl_toolkits.mplot3d import Axes3D\n",
    "import matplotlib.pyplot as plt\n",
    "import tiledb\n",
    "from tiledb.cf import Group, GroupSchema"
   ]
  },
  {
   "cell_type": "markdown",
   "metadata": {},
   "source": [
    "## Create numpy arrays\n",
    "\n",
    "Variables to set the size of the arrays:"
   ]
  },
  {
   "cell_type": "code",
   "execution_count": null,
   "metadata": {},
   "outputs": [],
   "source": [
    "dense_size = 100\n",
    "sparse_size = 2000\n",
    "t_size = 365"
   ]
  },
  {
   "cell_type": "markdown",
   "metadata": {},
   "source": [
    "Functions used to create a dataset:"
   ]
  },
  {
   "cell_type": "code",
   "execution_count": null,
   "metadata": {},
   "outputs": [],
   "source": [
    "def ripple(x,y,t):\n",
    "    return (np.sin(t*(x**2+y**2))/(t+1))\n",
    "\n",
    "def ripple2(x,y,z,t):\n",
    "    return (np.sin(t*(x**2+y**2))/(t+1))+z"
   ]
  },
  {
   "cell_type": "markdown",
   "metadata": {},
   "source": [
    "### Data for the dense arrays"
   ]
  },
  {
   "cell_type": "code",
   "execution_count": null,
   "metadata": {},
   "outputs": [],
   "source": [
    "dense_x_values = np.arange(1, dense_size+1)\n",
    "dense_y_values = np.arange(1, dense_size+1)\n",
    "dense_t_values = np.arange(1, t_size+1)\n",
    "\n",
    "dense_3d_values = np.fromfunction(\n",
    "        lambda x,y,t: ripple(x,y,t), \n",
    "        (dense_size,dense_size,t_size))\n",
    "\n",
    "dense_2d_values = np.nanmean(dense_3d_values, axis=2)\n",
    "dense_1d_values = np.mean(dense_3d_values, axis=(0, 1))"
   ]
  },
  {
   "cell_type": "code",
   "execution_count": null,
   "metadata": {},
   "outputs": [],
   "source": [
    "dense_3d_values = np.fromfunction(\n",
    "        lambda x,y,t: ripple(x,y,t), \n",
    "        (dense_size,dense_size,t_size))\n",
    "\n",
    "dense_2d_values = np.nanmean(dense_3d_values, axis=2)\n",
    "dense_1d_values = np.mean(dense_3d_values, axis=(0, 1))"
   ]
  },
  {
   "cell_type": "markdown",
   "metadata": {},
   "source": [
    "### Data for the sparse arrays"
   ]
  },
  {
   "cell_type": "code",
   "execution_count": null,
   "metadata": {},
   "outputs": [],
   "source": [
    "sparse_x_values = np.random.randint(1, dense_size + 1, size=(sparse_size))\n",
    "sparse_y_values = np.random.randint(1, dense_size + 1, size=(sparse_size))\n",
    "sparse_z_values = np.random.randint(1, dense_size + 1, size=(sparse_size))\n",
    "sparse_t_values = np.random.randint(1, t_size + 1, size=(sparse_size))\n",
    "\n",
    "sparse_4d_values = ripple2(sparse_x_values,sparse_y_values,sparse_z_values,sparse_t_values)"
   ]
  },
  {
   "cell_type": "markdown",
   "metadata": {},
   "source": [
    "## Create the TileDB Group\n",
    "\n",
    "### Create the GroupSchema \n",
    "* [ArraySchema](https://tiledb-inc-tiledb-py.readthedocs-hosted.com/en/stable/python-api.html#array-schema) \n",
    "* [Domain](https://tiledb-inc-tiledb-py.readthedocs-hosted.com/en/stable/python-api.html#domain)\n",
    "* [Attributes](https://tiledb-inc-tiledb-py.readthedocs-hosted.com/en/stable/python-api.html#tiledb.Attr)\n",
    "* [Dimensions](https://tiledb-inc-tiledb-py.readthedocs-hosted.com/en/stable/python-api.html#dimension) "
   ]
  },
  {
   "cell_type": "code",
   "execution_count": null,
   "metadata": {},
   "outputs": [],
   "source": [
    "dense_x = tiledb.Dim(name=\"dense_x\", domain=(1, dense_size), tile=10, dtype=np.uint64)\n",
    "dense_y = tiledb.Dim(name=\"dense_y\", domain=(1, dense_size), tile=10, dtype=np.uint64)\n",
    "dense_t = tiledb.Dim(name=\"dense_t\", domain=(1, t_size), tile=10, dtype=np.uint64)\n",
    "sparse_x = tiledb.Dim(name=\"sparse_x\", domain=(1, sparse_size), tile=10, dtype=np.uint64)\n",
    "sparse_y = tiledb.Dim(name=\"sparse_y\", domain=(1, sparse_size), tile=10, dtype=np.uint64)\n",
    "sparse_z = tiledb.Dim(name=\"sparse_z\", domain=(1, sparse_size), tile=10, dtype=np.uint64)\n",
    "sparse_t = tiledb.Dim(name=\"sparse_t\", domain=(1, t_size), tile=10, dtype=np.uint64)"
   ]
  },
  {
   "cell_type": "code",
   "execution_count": null,
   "metadata": {},
   "outputs": [],
   "source": [
    "group_schema = GroupSchema(\n",
    "    { \n",
    "        \"dense_3d\": tiledb.ArraySchema(\n",
    "            domain=tiledb.Domain(dense_x,dense_y,dense_t), \n",
    "            attrs=[\n",
    "                tiledb.Attr(name=\"dense_3d_data\", dtype=np.float64), \n",
    "            ],\n",
    "         ),\n",
    "        \"dense_2d\": tiledb.ArraySchema(\n",
    "            domain=tiledb.Domain(dense_x,dense_y), \n",
    "            attrs=[\n",
    "                tiledb.Attr(name=\"dense_2d_data\", dtype=np.float64), \n",
    "            ],\n",
    "         ),\n",
    "        \"dense_1d\": tiledb.ArraySchema(\n",
    "            domain=tiledb.Domain(dense_t), \n",
    "            attrs=[\n",
    "                tiledb.Attr(name=\"dense_1d_data\", dtype=np.float64), \n",
    "            ],\n",
    "        ),\n",
    "        \"sparse_4d\": tiledb.ArraySchema(\n",
    "            domain=tiledb.Domain(sparse_x,sparse_y,sparse_z,sparse_t), \n",
    "            attrs=[\n",
    "                tiledb.Attr(name=\"sparse_4d_data\", dtype=np.float64), \n",
    "            ],\n",
    "            sparse=True,\n",
    "            allows_duplicates=True,\n",
    "        ),\n",
    "        \"dense_axes_xy\": tiledb.ArraySchema(\n",
    "            domain=tiledb.Domain(dense_x), \n",
    "            attrs=[\n",
    "                tiledb.Attr(name=\"dense_x_data\", dtype=np.uint64), \n",
    "                tiledb.Attr(name=\"dense_y_data\", dtype=np.uint64), \n",
    "            ],\n",
    "         ),\n",
    "        \"dense_axes_t\": tiledb.ArraySchema(\n",
    "            domain=tiledb.Domain(dense_t), \n",
    "            attrs=[\n",
    "                tiledb.Attr(name=\"dense_t_data\", dtype=np.uint64), \n",
    "            ],\n",
    "        ),\n",
    "        \"sparse_axes\": tiledb.ArraySchema(\n",
    "            domain=tiledb.Domain(sparse_x), \n",
    "            attrs=[\n",
    "                tiledb.Attr(name=\"sparse_x_data\", dtype=np.uint64), \n",
    "                tiledb.Attr(name=\"sparse_y_data\", dtype=np.uint64), \n",
    "                tiledb.Attr(name=\"sparse_z_data\", dtype=np.uint64), \n",
    "                tiledb.Attr(name=\"sparse_t_data\", dtype=np.uint64), \n",
    "            ],\n",
    "            sparse=True,\n",
    "            allows_duplicates=True,\n",
    "         ),}\n",
    ")"
   ]
  },
  {
   "cell_type": "markdown",
   "metadata": {},
   "source": [
    "### Create the TileDB Group on disk"
   ]
  },
  {
   "cell_type": "code",
   "execution_count": null,
   "metadata": {},
   "outputs": [],
   "source": [
    "group_uri = \"output/example_group\"\n",
    "if tiledb.object_type(group_uri) is None:\n",
    "    Group.create(\"output/example_group\", group_schema)"
   ]
  },
  {
   "cell_type": "markdown",
   "metadata": {},
   "source": [
    "### Write data to the TileDB Group\n",
    "\n",
    "#### Dense arrays\n",
    "\n",
    "Specify the name of the attribute (`attr`) to write the data to. "
   ]
  },
  {
   "cell_type": "code",
   "execution_count": null,
   "metadata": {},
   "outputs": [],
   "source": [
    "with Group(group_uri, attr=\"dense_3d_data\", mode=\"w\") as group:\n",
    "    group.array[:] = dense_3d_values\n",
    "    \n",
    "with Group(group_uri, attr=\"dense_2d_data\", mode=\"w\") as group:\n",
    "    group.array[:] = dense_2d_values   \n",
    "\n",
    "with Group(group_uri, attr=\"dense_1d_data\", mode=\"w\") as group:\n",
    "    group.array[:] = dense_1d_values"
   ]
  },
  {
   "cell_type": "markdown",
   "metadata": {},
   "source": [
    "#### Sparse array\n",
    "\n",
    "Specify the name of the attribute (`attr`) to write the data to. When writing to a sparse array add the values of the dimensions to `group.array[]`."
   ]
  },
  {
   "cell_type": "code",
   "execution_count": null,
   "metadata": {},
   "outputs": [],
   "source": [
    "with Group(group_uri, attr=\"sparse_4d_data\", mode=\"w\") as group:\n",
    "    group.array[sparse_x_values,sparse_y_values,sparse_z_values,sparse_t_values] = sparse_4d_values"
   ]
  },
  {
   "cell_type": "markdown",
   "metadata": {},
   "source": [
    "#### Dimension arrays\n",
    "\n",
    "Attribute names of can have the same name in multiple arrays. In this case, specify both the name of the `array` and the attribute (`attr`) to write the data to. \n",
    "\n",
    "Also note the difference in writing data to a dense and sparse array:"
   ]
  },
  {
   "cell_type": "code",
   "execution_count": null,
   "metadata": {},
   "outputs": [],
   "source": [
    "with Group(group_uri, array=\"dense_axes_xy\", attr=\"dense_x_data\", mode=\"w\") as group:\n",
    "    group.array[:] = dense_x_values\n",
    "\n",
    "with Group(group_uri, array=\"dense_axes_xy\", attr=\"dense_y_data\", mode=\"w\") as group:\n",
    "    group.array[:] = dense_y_values\n",
    "\n",
    "with Group(group_uri, array=\"dense_axes_t\", attr=\"dense_t_data\", mode=\"w\") as group:\n",
    "    group.array[:] = dense_t_values\n",
    "\n",
    "with Group(group_uri, array=\"sparse_axes\", mode=\"w\") as group:\n",
    "    group.array[np.arange(sparse_size)+1] = {\"sparse_x_data\": sparse_x_values, \n",
    "                                             \"sparse_y_data\": sparse_y_values, \n",
    "                                             \"sparse_z_data\": sparse_z_values, \n",
    "                                             \"sparse_t_data\": sparse_t_values}\n",
    "    \n",
    "    \n",
    "dense_x_values = np.arange(1, dense_size+1)\n",
    "dense_y_values = np.arange(1, dense_size+1)\n",
    "dense_t_values = np.arange(1, t_size+1)"
   ]
  },
  {
   "cell_type": "markdown",
   "metadata": {},
   "source": [
    "#### Metadata\n",
    "\n",
    "Write Group metadata: "
   ]
  },
  {
   "cell_type": "code",
   "execution_count": null,
   "metadata": {},
   "outputs": [],
   "source": [
    "with Group(group_uri, mode=\"w\") as group:\n",
    "    group.meta[\"description\"] = \"Example TileDB Group\"\n",
    "    group.meta[\"version\"] = \"1.0\"\n",
    "    group.meta[\"created on \"] = time.ctime(time.time())"
   ]
  },
  {
   "cell_type": "markdown",
   "metadata": {},
   "source": [
    "Write Array metadata:"
   ]
  },
  {
   "cell_type": "code",
   "execution_count": null,
   "metadata": {},
   "outputs": [],
   "source": [
    "with Group(group_uri, array=\"dense_3d\", mode=\"w\") as group:\n",
    "    group.array_metadata[\"description\"] = \"Example 3D dense array with dimensions x, y and t\"\n",
    "    group.array.meta[\"description 2\"] = \"The same example of a 3D dense array with dimensions x, y and t\"\n",
    "\n",
    "with Group(group_uri, array=\"dense_axes_xy\", mode=\"w\") as group:\n",
    "    group.array_metadata[\"description\"] = \"Values for the x and y dimensions of the 3D dense array\""
   ]
  },
  {
   "cell_type": "markdown",
   "metadata": {},
   "source": [
    "Write Attribute metadata:"
   ]
  },
  {
   "cell_type": "code",
   "execution_count": null,
   "metadata": {},
   "outputs": [],
   "source": [
    "with Group(group_uri, array=\"dense_axes_xy\", attr=\"dense_x_data\", mode=\"w\") as group:\n",
    "    group.attr_metadata[\"description\"] = \"Values of x\""
   ]
  },
  {
   "cell_type": "markdown",
   "metadata": {},
   "source": [
    "### Read data from the TileDB Group\n",
    "\n",
    "##### Load the GroupSchema"
   ]
  },
  {
   "cell_type": "code",
   "execution_count": null,
   "metadata": {},
   "outputs": [],
   "source": [
    "group_schema = GroupSchema.load(group_uri)\n",
    "group_schema"
   ]
  },
  {
   "cell_type": "markdown",
   "metadata": {},
   "source": [
    "#### Read the metadata\n",
    "\n",
    "Read the Group metadata keys and their values:"
   ]
  },
  {
   "cell_type": "code",
   "execution_count": null,
   "metadata": {},
   "outputs": [],
   "source": [
    "with Group(group_uri) as group:\n",
    "    for key, value in group.meta.items():\n",
    "        print(f\"{key}: {value}\")"
   ]
  },
  {
   "cell_type": "markdown",
   "metadata": {},
   "source": [
    "* `array.meta.items()` is the metadata object for the entire array and includes the keys for attribute metadata\n",
    "* `.array_metadata.items()` ignores any metadata that starts with `__tiledb_attr`\n",
    "\n",
    "Read the metadata for the `dense_axes_xy` array with `array.meta.items()` or `.array_metadata.items()`:"
   ]
  },
  {
   "cell_type": "code",
   "execution_count": null,
   "metadata": {},
   "outputs": [],
   "source": [
    "with Group(group_uri, array=\"dense_axes_xy\") as group:\n",
    "    for key, value in group.array.meta.items():\n",
    "        print(f\"{key}: {value}\")      "
   ]
  },
  {
   "cell_type": "code",
   "execution_count": null,
   "metadata": {},
   "outputs": [],
   "source": [
    "with Group(group_uri, array=\"dense_axes_xy\") as group:\n",
    "    for key, value in group.array_metadata.items():\n",
    "        print(f\"{key}: {value}\")"
   ]
  },
  {
   "cell_type": "markdown",
   "metadata": {},
   "source": [
    "Alternatively, print the value of a metadata key with `.get_attr_metadata()`:"
   ]
  },
  {
   "cell_type": "code",
   "execution_count": null,
   "metadata": {},
   "outputs": [],
   "source": [
    "with Group(group_uri, array=\"dense_axes_xy\") as group:\n",
    "    print(group.get_attr_metadata(\"dense_x_data\")[\"description\"])"
   ]
  },
  {
   "cell_type": "markdown",
   "metadata": {},
   "source": [
    "#### Read and visualise the data"
   ]
  },
  {
   "cell_type": "code",
   "execution_count": null,
   "metadata": {},
   "outputs": [],
   "source": [
    "with Group(group_uri, array=\"dense_3d\", attr=\"dense_3d_data\") as group:\n",
    "    dense_3d_data = group.array[:]\n",
    "    \n",
    "with Group(group_uri, array=\"dense_axes_xy\") as group:\n",
    "    data = group.array[...]\n",
    "    dense_x_data = data[\"dense_x_data\"]\n",
    "    dense_y_data = data[\"dense_y_data\"]"
   ]
  },
  {
   "cell_type": "code",
   "execution_count": null,
   "metadata": {},
   "outputs": [],
   "source": [
    "fig, axes = plt.subplots(nrows=2, ncols=2,figsize=(12, 12))\n",
    "axes[0,0].contourf(dense_x_data, dense_y_data, dense_3d_data[:,:,33]);\n",
    "axes[0,1].contourf(dense_x_data, dense_y_data, dense_3d_data[:,:,66]);\n",
    "axes[1,0].contourf(dense_x_data, dense_y_data, dense_3d_data[:,:,99]);\n",
    "axes[1,1].contourf(dense_x_data, dense_y_data, dense_3d_data[:,:,95]);"
   ]
  },
  {
   "cell_type": "code",
   "execution_count": null,
   "metadata": {},
   "outputs": [],
   "source": [
    "with Group(group_uri, array=\"sparse_4d\") as group:\n",
    "    df = pd.DataFrame(group.array[...])\n",
    "    \n",
    "df.head()    "
   ]
  },
  {
   "cell_type": "code",
   "execution_count": null,
   "metadata": {},
   "outputs": [],
   "source": [
    "df.describe().transpose()"
   ]
  },
  {
   "cell_type": "code",
   "execution_count": null,
   "metadata": {},
   "outputs": [],
   "source": [
    "df.plot.scatter(x=\"sparse_x\", y=\"sparse_4d_data\");"
   ]
  },
  {
   "cell_type": "code",
   "execution_count": null,
   "metadata": {},
   "outputs": [],
   "source": [
    "with Group(group_uri, array=\"dense_1d\") as group:\n",
    "    df2 = pd.DataFrame(group.array[...])\n",
    "    \n",
    "df2.head() "
   ]
  },
  {
   "cell_type": "code",
   "execution_count": null,
   "metadata": {},
   "outputs": [],
   "source": [
    "df2.plot();"
   ]
  },
  {
   "cell_type": "code",
   "execution_count": null,
   "metadata": {},
   "outputs": [],
   "source": []
  }
 ],
 "metadata": {
  "interpreter": {
   "hash": "f83ddd6991e62697b8e1c78d35b449f256fb868317b9158045034ef8d7136941"
  },
  "kernelspec": {
   "display_name": "netcdf-dev",
   "language": "python",
   "name": "netcdf-dev"
  },
  "language_info": {
   "codemirror_mode": {
    "name": "ipython",
    "version": 3
   },
   "file_extension": ".py",
   "mimetype": "text/x-python",
   "name": "python",
   "nbconvert_exporter": "python",
   "pygments_lexer": "ipython3",
   "version": "3.7.10"
  }
 },
 "nbformat": 4,
 "nbformat_minor": 4
}
