{
 "cells": [
  {
   "cell_type": "code",
<<<<<<< HEAD
   "execution_count": 1,
=======
   "execution_count": 2,
>>>>>>> origin/cc/ch9926/xarray-datashader-vis
   "id": "1d92c4b1",
   "metadata": {},
   "outputs": [],
   "source": [
    "%config Completer.use_jedi = False"
   ]
  },
  {
   "cell_type": "code",
<<<<<<< HEAD
   "execution_count": 175,
=======
   "execution_count": 7,
>>>>>>> origin/cc/ch9926/xarray-datashader-vis
   "id": "6ed6f3f8",
   "metadata": {},
   "outputs": [],
   "source": [
    "from typing import Dict, Hashable, Any\n",
    "from operator import itemgetter\n",
    "import numpy as np\n",
    "import pandas as pd\n",
    "import xarray as xr\n",
    "\n",
    "from xarray.core.variable import Variable\n",
    "\n",
    "from xarray.backends.common import BACKEND_ENTRYPOINTS\n",
    "\n",
    "import tiledb\n",
    "from tiledb.cf.engines.xarray_engine import TileDBBackendEntrypoint\n",
    "\n",
    "_ATTR_PREFIX = \"__tiledb_attr.\"\n",
    "\n",
    "BACKEND_ENTRYPOINTS[\"tiledb\"] = TileDBBackendEntrypoint"
   ]
  },
  {
   "cell_type": "code",
<<<<<<< HEAD
   "execution_count": 209,
   "id": "7587e8cc",
   "metadata": {},
   "outputs": [
    {
     "data": {
      "text/plain": [
       "array([[1, 1, 1, 1, 1],\n",
       "       [2, 2, 2, 2, 2],\n",
       "       [3, 3, 3, 3, 3]])"
      ]
     },
     "execution_count": 209,
     "metadata": {},
     "output_type": "execute_result"
    }
   ],
   "source": [
    "a = np.array([1, 2, 3])\n",
    "a = np.array([a])\n",
    "a = np.transpose(a)\n",
    "np.repeat(a, 5, axis=1)"
   ]
  },
  {
   "cell_type": "code",
   "execution_count": 151,
   "id": "b6c94937",
   "metadata": {},
   "outputs": [
    {
     "data": {
      "text/plain": [
       "True"
      ]
     },
     "execution_count": 151,
     "metadata": {},
     "output_type": "execute_result"
    }
   ],
   "source": [
    "TIMEDALTAS = {\n",
    "    str(np.timedelta64(1, \"D\").astype('timedelta64[ns]').astype(float)): \"D\",\n",
    "    str(np.timedelta64(1, \"W\").astype('timedelta64[ns]').astype(float)): \"W\",\n",
    "    str(np.timedelta64(1, \"M\").astype('timedelta64[ns]').astype(float)): \"M\",\n",
    "    str(np.timedelta64(1, \"Y\").astype('timedelta64[ns]').astype(float)): \"Y\",\n",
    "    str(np.timedelta64(1, \"h\").astype('timedelta64[ns]').astype(float)): \"h\",\n",
    "    str(np.timedelta64(1, \"m\").astype('timedelta64[ns]').astype(float)): \"m\",\n",
    "    str(np.timedelta64(1, \"s\").astype('timedelta64[ns]').astype(float)): \"s\",\n",
    "    str(np.timedelta64(1, \"ms\").astype('timedelta64[ns]').astype(float)): \"ms\",\n",
    "    str(np.timedelta64(1, \"us\").astype('timedelta64[ns]').astype(float)): \"us\",\n",
    "    str(np.timedelta64(1, \"ns\").astype('timedelta64[ns]').astype(float)): \"ns\",\n",
    "    str(np.timedelta64(1, \"ps\").astype('timedelta64[ns]').astype(float)): \"ps\",\n",
    "    str(np.timedelta64(1, \"fs\").astype('timedelta64[ns]').astype(float)): \"fs\",\n",
    "    str(np.timedelta64(1, \"as\").astype('timedelta64[ns]').astype(float)): \"as\",\n",
    "}\n",
    "TIMEDALTAS[str(np.timedelta64(1, \"D\").astype('timedelta64[ns]').astype(float))]\n"
   ]
  },
  {
   "cell_type": "code",
   "execution_count": 245,
=======
   "execution_count": 8,
>>>>>>> origin/cc/ch9926/xarray-datashader-vis
   "id": "b08c54db",
   "metadata": {},
   "outputs": [],
   "source": [
    "def write_tdb_array(\n",
    "    path: str, data: Dict[Hashable, Any], metadata: Dict[Hashable, Any] = None\n",
    "):\n",
    "    with tiledb.open(path, \"w\") as array:\n",
    "#         print(array.schema)\n",
    "        array[:] = data\n",
    "        if metadata is not None:\n",
    "            for key, value in metadata.items():\n",
    "                array.meta[key] = value\n",
    "    with tiledb.open(path) as array:\n",
    "        schema, meta = array.schema, dict(array.meta)\n",
    "    return schema, meta\n",
    "\n",
    "def to_tiledb(dataset: xr.Dataset, path: str):  # noqa: C901\n",
    "    default_dtype = np.uint64\n",
    "    coords = dataset.coords\n",
    "    w_dims = (\"x\", \"w\", \"width\", \"lon\", \"long\", \"lng\", \"longitude\")\n",
    "    h_dims = (\"y\", \"h\", \"height\", \"lat\", \"latitude\")\n",
    "    wh_dims = (*w_dims, *h_dims)\n",
    "    tdb_dims = []\n",
    "    data_vars = []\n",
    "    data = dict()\n",
    "    vars_attrs = dict()\n",
    "    \n",
    "    for name in coords:\n",
    "        #  not sure about the logic here if something is not in dims but has name x for example\n",
    "        if name in dataset.dims:\n",
    "            coord = coords[name]\n",
    "            dtype = coord.dtype\n",
    "            transform = None\n",
    "            if dataset.attrs and \"transform\" in dataset.attrs:\n",
    "                transform = dataset.attrs.get(\"transform\")\n",
    "            if dtype.kind not in \"iuM\" and transform is None:\n",
    "                raise NotImplementedError(\n",
    "                    f\"TDB Arrays don't work yet with this dtype coord {dtype}\"\n",
    "                )\n",
    "            \n",
    "            min_value = coord.data[0]\n",
    "            max_value = coord.data[-1]\n",
    "            #  might have to add check for if dim doesn;t have a second coord with just the dimensions,\n",
    "            #  or, alternatively, to check for other names like lat lon\n",
    "            if transform is not None and name.lower() in wh_dims:\n",
    "                min_value = 1\n",
    "                max_value = len(coord.data)\n",
    "                dtype = default_dtype\n",
    "                \n",
    "                var_name = f\"coord.{name}\"\n",
    "                data_var = tiledb.Attr(name=var_name, dtype=coord.dtype)\n",
    "                data_vars.append(data_var)\n",
    "    \n",
    "                coord_data = coord.data\n",
    "                if name.lower() in w_dims:\n",
    "                    height = None\n",
    "                    for h_name in h_dims:\n",
    "                        if height is None:\n",
    "                            try:\n",
    "                                height = dataset.dims[h_name]\n",
    "                            except KeyError:\n",
    "                                pass\n",
    "                    if height is not None:\n",
    "                        coord_data = np.array([coord_data])\n",
    "                        coord_data = np.repeat(coord_data, height, axis=0)\n",
    "                \n",
    "                elif name.lower() in h_dims:\n",
    "                    width = None\n",
    "                    for w_name in w_dims:\n",
    "                        if width is None:\n",
    "                            try:\n",
    "                                width = dataset.dims[w_name]\n",
    "                            except KeyError:\n",
    "                                pass\n",
    "                    if width is not None:\n",
    "                        coord_data = np.array([coord_data])\n",
    "                        coord_data = np.transpose(coord_data)\n",
    "                        coord_data = np.repeat(coord_data, width, axis=1)\n",
    "        \n",
    "                data[var_name] = coord_data\n",
    "            \n",
    "            elif dtype.kind == \"M\":\n",
    "                min_value = 1\n",
    "                max_value = len(coord.data)\n",
    "                dtype = default_dtype\n",
    "    \n",
    "            else:\n",
    "                # test for NetCDF dimension type coord starting at 0\n",
    "                if min_value == 0:\n",
    "                    min_value, max_value = min_value + 1, max_value + 1\n",
    "                dtype = default_dtype\n",
    "            domain = (min_value, max_value)\n",
    "            tdb_dim = tiledb.Dim(name=name, domain=domain, dtype=dtype)\n",
    "            tdb_dims.append(tdb_dim)\n",
    "\n",
    "    dom = tiledb.Domain(*tdb_dims)\n",
    "\n",
    "    for var in dataset.data_vars:\n",
    "        var = dataset[var]\n",
    "        data_var = tiledb.Attr(name=var.name, dtype=var.dtype)\n",
    "        data_vars.append(data_var)\n",
    "        data[var.name] = var.data\n",
    "\n",
    "    schema = tiledb.ArraySchema(domain=dom, attrs=data_vars, sparse=False)\n",
    "\n",
    "    if tiledb.array_exists(path):\n",
    "        tiledb.remove(path)\n",
    "    tiledb.DenseArray.create(path, schema)\n",
    "\n",
    "    metadata = dict()\n",
    "    data_var_attrs = dict()\n",
    "    dim_attrs = dict()\n",
    "    for key, value in dataset.attrs.items():\n",
    "        if key not in dataset.data_vars and key not in dataset.dims:\n",
    "            metadata[key] = value\n",
    "        elif key in dataset.data_vars:\n",
    "            data_var_attrs[key] = value\n",
    "        elif key in dataset.dims:\n",
    "            dim_attrs[key] = value\n",
    "\n",
    "    for var_name, attrs in data_var_attrs.items():\n",
    "        key_prefix = f\"{_ATTR_PREFIX}{var_name}\"\n",
    "        if isinstance(attrs, dict):\n",
    "            for attr_name, value in attrs.items():\n",
    "                key = f\"{key_prefix}.{attr_name}\"\n",
    "                if isinstance(value, np.datetime64):\n",
    "                    value = str(value)\n",
    "                metadata[key] = value\n",
    "        else:\n",
    "            metadata[key_prefix] = attrs\n",
    "\n",
    "    for dim_name, attrs in dim_attrs.items():\n",
    "        key_prefix = f\"{_DIM_PREFIX}{dim_name}\"\n",
    "        if isinstance(attrs, dict):\n",
    "            for attr_name, value in attrs.items():\n",
    "                key = f\"{key_prefix}.{attr_name}\"\n",
    "                if isinstance(value, np.datetime64):\n",
    "                    value = str(value)\n",
    "                metadata[key] = value\n",
    "        else:\n",
    "            metadata[key_prefix] = attrs\n",
    "\n",
    "    write_tdb_array(path, data, metadata)\n",
    "\n",
    "    \n",
    "# second_value = coord.data[1]\n",
    "#                 freq = second_value - min_value\n",
    "#                 freq_key = str(freq.astype('timedelta64[ns]').astype(float))\n",
    "#                 if freq_key in TIMEDALTAS:\n",
    "#                     freq_code = TIMEDALTAS[freq_key]\n",
    "#                     date_range = pd.date_range(min_value, max_value, freq=freq_code)\n",
    "#                     if not (date_range == coord.data).all():\n",
    "#                         raise NotImplementedError(\"uneven datetime coord not implemented\")\n",
    "#                     min_value = date_range[0]\n",
    "#                     max_value = date_range[-1]\n",
    "#                 else:\n",
    "#                     raise IndexError(\"cannot find timedelta for datetime coord\")"
   ]
  },
  {
   "cell_type": "code",
<<<<<<< HEAD
   "execution_count": 250,
=======
   "execution_count": 9,
>>>>>>> origin/cc/ch9926/xarray-datashader-vis
   "id": "041e07ee",
   "metadata": {},
   "outputs": [
    {
<<<<<<< HEAD
     "name": "stdout",
     "output_type": "stream",
     "text": [
      "coord.x [0.         0.06666667 0.13333333 0.2        0.26666667 0.33333333\n",
      " 0.4        0.46666667 0.53333333 0.6        0.66666667 0.73333333\n",
      " 0.8        0.86666667 0.93333333 1.        ]\n"
     ]
    },
    {
     "ename": "ValueError",
     "evalue": "mixed C and Fortran array layouts",
     "output_type": "error",
     "traceback": [
      "\u001b[0;31m---------------------------------------------------------------------------\u001b[0m",
      "\u001b[0;31mValueError\u001b[0m                                Traceback (most recent call last)",
      "\u001b[0;32m<ipython-input-250-75d120936c6b>\u001b[0m in \u001b[0;36m<module>\u001b[0;34m\u001b[0m\n\u001b[1;32m     10\u001b[0m \u001b[0mvar\u001b[0m \u001b[0;34m=\u001b[0m \u001b[0;34m{\u001b[0m\u001b[0;34m\"data\"\u001b[0m\u001b[0;34m:\u001b[0m \u001b[0mVariable\u001b[0m\u001b[0;34m(\u001b[0m\u001b[0;34m[\u001b[0m\u001b[0;34m\"x\"\u001b[0m\u001b[0;34m,\u001b[0m \u001b[0;34m\"time\"\u001b[0m\u001b[0;34m]\u001b[0m\u001b[0;34m,\u001b[0m \u001b[0mdata\u001b[0m\u001b[0;34m,\u001b[0m \u001b[0mdata_attrs\u001b[0m\u001b[0;34m)\u001b[0m\u001b[0;34m}\u001b[0m\u001b[0;34m\u001b[0m\u001b[0;34m\u001b[0m\u001b[0m\n\u001b[1;32m     11\u001b[0m \u001b[0mdataset\u001b[0m \u001b[0;34m=\u001b[0m \u001b[0mxr\u001b[0m\u001b[0;34m.\u001b[0m\u001b[0mDataset\u001b[0m\u001b[0;34m(\u001b[0m\u001b[0mdata_vars\u001b[0m\u001b[0;34m=\u001b[0m\u001b[0mvar\u001b[0m\u001b[0;34m,\u001b[0m \u001b[0mcoords\u001b[0m\u001b[0;34m=\u001b[0m\u001b[0mcoords\u001b[0m\u001b[0;34m,\u001b[0m \u001b[0mattrs\u001b[0m\u001b[0;34m=\u001b[0m\u001b[0mds_attrs\u001b[0m\u001b[0;34m)\u001b[0m\u001b[0;34m\u001b[0m\u001b[0;34m\u001b[0m\u001b[0m\n\u001b[0;32m---> 12\u001b[0;31m \u001b[0mto_tiledb\u001b[0m\u001b[0;34m(\u001b[0m\u001b[0mdataset\u001b[0m\u001b[0;34m,\u001b[0m \u001b[0;34m'../../../../Downloads/test_gis_dataset'\u001b[0m\u001b[0;34m)\u001b[0m\u001b[0;34m\u001b[0m\u001b[0;34m\u001b[0m\u001b[0m\n\u001b[0m",
      "\u001b[0;32m<ipython-input-245-bb8623f1c411>\u001b[0m in \u001b[0;36mto_tiledb\u001b[0;34m(dataset, path)\u001b[0m\n\u001b[1;32m    140\u001b[0m             \u001b[0mmetadata\u001b[0m\u001b[0;34m[\u001b[0m\u001b[0mkey_prefix\u001b[0m\u001b[0;34m]\u001b[0m \u001b[0;34m=\u001b[0m \u001b[0mattrs\u001b[0m\u001b[0;34m\u001b[0m\u001b[0;34m\u001b[0m\u001b[0m\n\u001b[1;32m    141\u001b[0m \u001b[0;34m\u001b[0m\u001b[0m\n\u001b[0;32m--> 142\u001b[0;31m     \u001b[0mwrite_tdb_array\u001b[0m\u001b[0;34m(\u001b[0m\u001b[0mpath\u001b[0m\u001b[0;34m,\u001b[0m \u001b[0mdata\u001b[0m\u001b[0;34m,\u001b[0m \u001b[0mmetadata\u001b[0m\u001b[0;34m)\u001b[0m\u001b[0;34m\u001b[0m\u001b[0;34m\u001b[0m\u001b[0m\n\u001b[0m\u001b[1;32m    143\u001b[0m \u001b[0;34m\u001b[0m\u001b[0m\n\u001b[1;32m    144\u001b[0m \u001b[0;34m\u001b[0m\u001b[0m\n",
      "\u001b[0;32m<ipython-input-245-bb8623f1c411>\u001b[0m in \u001b[0;36mwrite_tdb_array\u001b[0;34m(path, data, metadata)\u001b[0m\n\u001b[1;32m      4\u001b[0m     \u001b[0;32mwith\u001b[0m \u001b[0mtiledb\u001b[0m\u001b[0;34m.\u001b[0m\u001b[0mopen\u001b[0m\u001b[0;34m(\u001b[0m\u001b[0mpath\u001b[0m\u001b[0;34m,\u001b[0m \u001b[0;34m\"w\"\u001b[0m\u001b[0;34m)\u001b[0m \u001b[0;32mas\u001b[0m \u001b[0marray\u001b[0m\u001b[0;34m:\u001b[0m\u001b[0;34m\u001b[0m\u001b[0;34m\u001b[0m\u001b[0m\n\u001b[1;32m      5\u001b[0m \u001b[0;31m#         print(array.schema)\u001b[0m\u001b[0;34m\u001b[0m\u001b[0;34m\u001b[0m\u001b[0;34m\u001b[0m\u001b[0m\n\u001b[0;32m----> 6\u001b[0;31m         \u001b[0marray\u001b[0m\u001b[0;34m[\u001b[0m\u001b[0;34m:\u001b[0m\u001b[0;34m]\u001b[0m \u001b[0;34m=\u001b[0m \u001b[0mdata\u001b[0m\u001b[0;34m\u001b[0m\u001b[0;34m\u001b[0m\u001b[0m\n\u001b[0m\u001b[1;32m      7\u001b[0m         \u001b[0;32mif\u001b[0m \u001b[0mmetadata\u001b[0m \u001b[0;32mis\u001b[0m \u001b[0;32mnot\u001b[0m \u001b[0;32mNone\u001b[0m\u001b[0;34m:\u001b[0m\u001b[0;34m\u001b[0m\u001b[0;34m\u001b[0m\u001b[0m\n\u001b[1;32m      8\u001b[0m             \u001b[0;32mfor\u001b[0m \u001b[0mkey\u001b[0m\u001b[0;34m,\u001b[0m \u001b[0mvalue\u001b[0m \u001b[0;32min\u001b[0m \u001b[0mmetadata\u001b[0m\u001b[0;34m.\u001b[0m\u001b[0mitems\u001b[0m\u001b[0;34m(\u001b[0m\u001b[0;34m)\u001b[0m\u001b[0;34m:\u001b[0m\u001b[0;34m\u001b[0m\u001b[0;34m\u001b[0m\u001b[0m\n",
      "\u001b[0;32mtiledb/libtiledb.pyx\u001b[0m in \u001b[0;36mtiledb.libtiledb.DenseArrayImpl.__setitem__\u001b[0;34m()\u001b[0m\n",
      "\u001b[0;32mtiledb/libtiledb.pyx\u001b[0m in \u001b[0;36mtiledb.libtiledb.DenseArrayImpl._setitem_impl\u001b[0;34m()\u001b[0m\n",
      "\u001b[0;32mtiledb/libtiledb.pyx\u001b[0m in \u001b[0;36mtiledb.libtiledb._write_array\u001b[0;34m()\u001b[0m\n",
      "\u001b[0;31mValueError\u001b[0m: mixed C and Fortran array layouts"
=======
     "ename": "NotImplementedError",
     "evalue": "TDB Arrays don't work yet with this dtype coord float64",
     "output_type": "error",
     "traceback": [
      "\u001b[0;31m---------------------------------------------------------------------------\u001b[0m",
      "\u001b[0;31mNotImplementedError\u001b[0m                       Traceback (most recent call last)",
      "\u001b[0;32m/var/folders/1f/pp3d2lqd0zl21kgxcsxzcpq00000gn/T/ipykernel_10047/2218562640.py\u001b[0m in \u001b[0;36m<module>\u001b[0;34m\u001b[0m\n\u001b[1;32m      6\u001b[0m \u001b[0mvar\u001b[0m \u001b[0;34m=\u001b[0m \u001b[0;34m{\u001b[0m\u001b[0;34m\"data\"\u001b[0m\u001b[0;34m:\u001b[0m \u001b[0mVariable\u001b[0m\u001b[0;34m(\u001b[0m\u001b[0;34m[\u001b[0m\u001b[0;34m\"x\"\u001b[0m\u001b[0;34m]\u001b[0m\u001b[0;34m,\u001b[0m \u001b[0mdata\u001b[0m\u001b[0;34m,\u001b[0m \u001b[0mdata_attrs\u001b[0m\u001b[0;34m)\u001b[0m\u001b[0;34m}\u001b[0m\u001b[0;34m\u001b[0m\u001b[0;34m\u001b[0m\u001b[0m\n\u001b[1;32m      7\u001b[0m \u001b[0mdataset\u001b[0m \u001b[0;34m=\u001b[0m \u001b[0mxr\u001b[0m\u001b[0;34m.\u001b[0m\u001b[0mDataset\u001b[0m\u001b[0;34m(\u001b[0m\u001b[0mdata_vars\u001b[0m\u001b[0;34m=\u001b[0m\u001b[0mvar\u001b[0m\u001b[0;34m,\u001b[0m \u001b[0mcoords\u001b[0m\u001b[0;34m=\u001b[0m\u001b[0mcoords\u001b[0m\u001b[0;34m,\u001b[0m \u001b[0mattrs\u001b[0m\u001b[0;34m=\u001b[0m\u001b[0mds_attrs\u001b[0m\u001b[0;34m)\u001b[0m\u001b[0;34m\u001b[0m\u001b[0;34m\u001b[0m\u001b[0m\n\u001b[0;32m----> 8\u001b[0;31m \u001b[0mto_tiledb\u001b[0m\u001b[0;34m(\u001b[0m\u001b[0mdataset\u001b[0m\u001b[0;34m,\u001b[0m \u001b[0;34m'../../../../Downloads/test_gis_dataset'\u001b[0m\u001b[0;34m)\u001b[0m\u001b[0;34m\u001b[0m\u001b[0;34m\u001b[0m\u001b[0m\n\u001b[0m",
      "\u001b[0;32m/var/folders/1f/pp3d2lqd0zl21kgxcsxzcpq00000gn/T/ipykernel_10047/3970886583.py\u001b[0m in \u001b[0;36mto_tiledb\u001b[0;34m(dataset, path)\u001b[0m\n\u001b[1;32m     17\u001b[0m             \u001b[0mdtype\u001b[0m \u001b[0;34m=\u001b[0m \u001b[0mcoord\u001b[0m\u001b[0;34m.\u001b[0m\u001b[0mdtype\u001b[0m\u001b[0;34m\u001b[0m\u001b[0;34m\u001b[0m\u001b[0m\n\u001b[1;32m     18\u001b[0m             \u001b[0;32mif\u001b[0m \u001b[0mdtype\u001b[0m\u001b[0;34m.\u001b[0m\u001b[0mkind\u001b[0m \u001b[0;32mnot\u001b[0m \u001b[0;32min\u001b[0m \u001b[0;34m\"iuM\"\u001b[0m\u001b[0;34m:\u001b[0m\u001b[0;34m\u001b[0m\u001b[0;34m\u001b[0m\u001b[0m\n\u001b[0;32m---> 19\u001b[0;31m                 raise NotImplementedError(\n\u001b[0m\u001b[1;32m     20\u001b[0m                     \u001b[0;34mf\"TDB Arrays don't work yet with this dtype coord {dtype}\"\u001b[0m\u001b[0;34m\u001b[0m\u001b[0;34m\u001b[0m\u001b[0m\n\u001b[1;32m     21\u001b[0m                 )\n",
      "\u001b[0;31mNotImplementedError\u001b[0m: TDB Arrays don't work yet with this dtype coord float64"
>>>>>>> origin/cc/ch9926/xarray-datashader-vis
     ]
    }
   ],
   "source": [
    "data = np.arange(16, dtype=np.uint64).reshape((16, 1))\n",
    "data_attrs = {\"description\": \"data_var called 'data' with simple int range\"}\n",
    "coords = {\n",
    "    'x': np.linspace(0, 1, num=16),\n",
    "    'time': np.arange(np.datetime64(\"2000-01-01\"),\n",
    "                      np.datetime64(\"2000-01-02\"))\n",
    "}\n",
    "transform = tuple((0.0, 1.0, 0.0, 0.0, 0.0, 1.0))\n",
    "ds_attrs = {\"description\": \"gis ds\", \"transform\": transform}\n",
    "var = {\"data\": Variable([\"x\", \"time\"], data, data_attrs)}\n",
    "dataset = xr.Dataset(data_vars=var, coords=coords, attrs=ds_attrs)\n",
    "to_tiledb(dataset, '../../../../Downloads/test_gis_dataset')"
   ]
  },
  {
   "cell_type": "code",
   "execution_count": null,
   "id": "75198686",
   "metadata": {},
   "outputs": [],
   "source": []
  },
  {
   "cell_type": "code",
   "execution_count": null,
   "id": "758aeab6",
   "metadata": {},
   "outputs": [],
<<<<<<< HEAD
   "source": []
  },
  {
   "cell_type": "code",
   "execution_count": null,
   "id": "d68d72e8",
   "metadata": {},
   "outputs": [],
   "source": []
=======
   "source": [
    "tdb_path = '../../../../Downloads/test_gis_dataset'\n",
    "\n"
   ]
>>>>>>> origin/cc/ch9926/xarray-datashader-vis
  }
 ],
 "metadata": {
  "kernelspec": {
<<<<<<< HEAD
   "display_name": "Python 3",
=======
   "display_name": "Python 3 (ipykernel)",
>>>>>>> origin/cc/ch9926/xarray-datashader-vis
   "language": "python",
   "name": "python3"
  },
  "language_info": {
   "codemirror_mode": {
    "name": "ipython",
    "version": 3
   },
   "file_extension": ".py",
   "mimetype": "text/x-python",
   "name": "python",
   "nbconvert_exporter": "python",
   "pygments_lexer": "ipython3",
<<<<<<< HEAD
   "version": "3.8.10"
=======
   "version": "3.8.5"
>>>>>>> origin/cc/ch9926/xarray-datashader-vis
  }
 },
 "nbformat": 4,
 "nbformat_minor": 5
}
