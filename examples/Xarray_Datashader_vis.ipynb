{
 "cells": [
  {
   "cell_type": "code",
   "execution_count": 2,
   "id": "1d92c4b1",
   "metadata": {},
   "outputs": [],
   "source": [
    "%config Completer.use_jedi = False"
   ]
  },
  {
   "cell_type": "code",
   "execution_count": 7,
   "id": "6ed6f3f8",
   "metadata": {},
   "outputs": [],
   "source": [
    "from typing import Dict, Hashable, Any\n",
    "\n",
    "import numpy as np\n",
    "import xarray as xr\n",
    "\n",
    "from xarray.core.variable import Variable\n",
    "\n",
    "from xarray.backends.common import BACKEND_ENTRYPOINTS\n",
    "\n",
    "import tiledb\n",
    "from tiledb.cf.engines.xarray_engine import TileDBBackendEntrypoint\n",
    "\n",
    "BACKEND_ENTRYPOINTS[\"tiledb\"] = TileDBBackendEntrypoint"
   ]
  },
  {
   "cell_type": "code",
   "execution_count": 8,
   "id": "b08c54db",
   "metadata": {},
   "outputs": [],
   "source": [
    "def write_tdb_array(\n",
    "    path: str, data: np.ndarray, metadata: Dict[Hashable, Any] = None\n",
    "):\n",
    "    with tiledb.open(path, \"w\") as array:\n",
    "        array[:] = data\n",
    "        if metadata is not None:\n",
    "            for key, value in metadata.items():\n",
    "                array.meta[key] = value\n",
    "\n",
    "def to_tiledb(dataset: xr.Dataset, path: str):  # noqa: C901\n",
    "    coords = dataset.coords\n",
    "\n",
    "    tdb_dims = []\n",
    "    for name in coords:\n",
    "        if name in dataset.dims:\n",
    "            coord = coords[name]\n",
    "            dtype = coord.dtype\n",
    "            if dtype.kind not in \"iuM\":\n",
    "                raise NotImplementedError(\n",
    "                    f\"TDB Arrays don't work yet with this dtype coord {dtype}\"\n",
    "                )\n",
    "            min_value = coord.data[0]\n",
    "            max_value = coord.data[-1]\n",
    "            if dtype.kind == \"M\":\n",
    "                domain = (1, len(coord.data))\n",
    "                dtype = np.int32\n",
    "            else:\n",
    "                # test for NetCDF dimension type coord starting at 0\n",
    "                if min_value == 0:\n",
    "                    min_value, max_value = min_value + 1, max_value + 1\n",
    "                domain = (min_value, max_value)\n",
    "            tdb_dim = tiledb.Dim(name=name, domain=domain, dtype=dtype)\n",
    "            tdb_dims.append(tdb_dim)\n",
    "\n",
    "    dom = tiledb.Domain(*tdb_dims)\n",
    "\n",
    "    data_vars = []\n",
    "    data = dict()\n",
    "    vars_attrs = dict()\n",
    "    for var in dataset.data_vars:\n",
    "        var = dataset[var]\n",
    "        data_var = tiledb.Attr(name=var.name, dtype=var.dtype)\n",
    "        data_vars.append(data_var)\n",
    "        data[var.name] = var.data\n",
    "        vars_attrs[var.name] = var.attrs\n",
    "\n",
    "    schema = tiledb.ArraySchema(domain=dom, attrs=data_vars, sparse=False)\n",
    "\n",
    "    data = list(data.values())[0]\n",
    "\n",
    "    if tiledb.array_exists(path):\n",
    "        tiledb.remove(path)\n",
    "    tiledb.DenseArray.create(path, schema)\n",
    "\n",
    "    metadata = dict()\n",
    "\n",
    "    data_var_attrs = dict()\n",
    "    dim_attrs = dict()\n",
    "    for key, value in dataset.attrs.items():\n",
    "        if key not in dataset.data_vars and key not in dataset.dims:\n",
    "            metadata[key] = value\n",
    "        elif key in dataset.data_vars:\n",
    "            data_var_attrs[key] = value\n",
    "        elif key in dataset.dims:\n",
    "            dim_attrs[key] = value\n",
    "\n",
    "    for var_name, attrs in data_var_attrs.items():\n",
    "        key_prefix = f\"{_ATTR_PREFIX}{var_name}\"\n",
    "        if isinstance(attrs, dict):\n",
    "            for attr_name, value in attrs.items():\n",
    "                key = f\"{key_prefix}.{attr_name}\"\n",
    "                if isinstance(value, np.datetime64):\n",
    "                    value = str(value)\n",
    "                metadata[key] = value\n",
    "        else:\n",
    "            metadata[key_prefix] = attrs\n",
    "\n",
    "    for dim_name, attrs in dim_attrs.items():\n",
    "        key_prefix = f\"{_DIM_PREFIX}{dim_name}\"\n",
    "        if isinstance(attrs, dict):\n",
    "            for attr_name, value in attrs.items():\n",
    "                key = f\"{key_prefix}.{attr_name}\"\n",
    "                if isinstance(value, np.datetime64):\n",
    "                    value = str(value)\n",
    "                metadata[key] = value\n",
    "        else:\n",
    "            metadata[key_prefix] = attrs\n",
    "\n",
    "    write_tdb_array(path, data, metadata)\n"
   ]
  },
  {
   "cell_type": "code",
   "execution_count": 9,
   "id": "041e07ee",
   "metadata": {},
   "outputs": [
    {
     "ename": "NotImplementedError",
     "evalue": "TDB Arrays don't work yet with this dtype coord float64",
     "output_type": "error",
     "traceback": [
      "\u001b[0;31m---------------------------------------------------------------------------\u001b[0m",
      "\u001b[0;31mNotImplementedError\u001b[0m                       Traceback (most recent call last)",
      "\u001b[0;32m/var/folders/1f/pp3d2lqd0zl21kgxcsxzcpq00000gn/T/ipykernel_10047/2218562640.py\u001b[0m in \u001b[0;36m<module>\u001b[0;34m\u001b[0m\n\u001b[1;32m      6\u001b[0m \u001b[0mvar\u001b[0m \u001b[0;34m=\u001b[0m \u001b[0;34m{\u001b[0m\u001b[0;34m\"data\"\u001b[0m\u001b[0;34m:\u001b[0m \u001b[0mVariable\u001b[0m\u001b[0;34m(\u001b[0m\u001b[0;34m[\u001b[0m\u001b[0;34m\"x\"\u001b[0m\u001b[0;34m]\u001b[0m\u001b[0;34m,\u001b[0m \u001b[0mdata\u001b[0m\u001b[0;34m,\u001b[0m \u001b[0mdata_attrs\u001b[0m\u001b[0;34m)\u001b[0m\u001b[0;34m}\u001b[0m\u001b[0;34m\u001b[0m\u001b[0;34m\u001b[0m\u001b[0m\n\u001b[1;32m      7\u001b[0m \u001b[0mdataset\u001b[0m \u001b[0;34m=\u001b[0m \u001b[0mxr\u001b[0m\u001b[0;34m.\u001b[0m\u001b[0mDataset\u001b[0m\u001b[0;34m(\u001b[0m\u001b[0mdata_vars\u001b[0m\u001b[0;34m=\u001b[0m\u001b[0mvar\u001b[0m\u001b[0;34m,\u001b[0m \u001b[0mcoords\u001b[0m\u001b[0;34m=\u001b[0m\u001b[0mcoords\u001b[0m\u001b[0;34m,\u001b[0m \u001b[0mattrs\u001b[0m\u001b[0;34m=\u001b[0m\u001b[0mds_attrs\u001b[0m\u001b[0;34m)\u001b[0m\u001b[0;34m\u001b[0m\u001b[0;34m\u001b[0m\u001b[0m\n\u001b[0;32m----> 8\u001b[0;31m \u001b[0mto_tiledb\u001b[0m\u001b[0;34m(\u001b[0m\u001b[0mdataset\u001b[0m\u001b[0;34m,\u001b[0m \u001b[0;34m'../../../../Downloads/test_gis_dataset'\u001b[0m\u001b[0;34m)\u001b[0m\u001b[0;34m\u001b[0m\u001b[0;34m\u001b[0m\u001b[0m\n\u001b[0m",
      "\u001b[0;32m/var/folders/1f/pp3d2lqd0zl21kgxcsxzcpq00000gn/T/ipykernel_10047/3970886583.py\u001b[0m in \u001b[0;36mto_tiledb\u001b[0;34m(dataset, path)\u001b[0m\n\u001b[1;32m     17\u001b[0m             \u001b[0mdtype\u001b[0m \u001b[0;34m=\u001b[0m \u001b[0mcoord\u001b[0m\u001b[0;34m.\u001b[0m\u001b[0mdtype\u001b[0m\u001b[0;34m\u001b[0m\u001b[0;34m\u001b[0m\u001b[0m\n\u001b[1;32m     18\u001b[0m             \u001b[0;32mif\u001b[0m \u001b[0mdtype\u001b[0m\u001b[0;34m.\u001b[0m\u001b[0mkind\u001b[0m \u001b[0;32mnot\u001b[0m \u001b[0;32min\u001b[0m \u001b[0;34m\"iuM\"\u001b[0m\u001b[0;34m:\u001b[0m\u001b[0;34m\u001b[0m\u001b[0;34m\u001b[0m\u001b[0m\n\u001b[0;32m---> 19\u001b[0;31m                 raise NotImplementedError(\n\u001b[0m\u001b[1;32m     20\u001b[0m                     \u001b[0;34mf\"TDB Arrays don't work yet with this dtype coord {dtype}\"\u001b[0m\u001b[0;34m\u001b[0m\u001b[0;34m\u001b[0m\u001b[0m\n\u001b[1;32m     21\u001b[0m                 )\n",
      "\u001b[0;31mNotImplementedError\u001b[0m: TDB Arrays don't work yet with this dtype coord float64"
     ]
    }
   ],
   "source": [
    "data = np.arange(16, dtype=np.uint64)\n",
    "data_attrs = {\"description\": \"data_var called 'data' with simple int range\"}\n",
    "coords = {'x': np.linspace(0, 1, num=16)}\n",
    "GeoTransform = str(list((0, 1.0, 0, 0, 0, 1.0)))\n",
    "ds_attrs = {\"description\": \"gis ds\", \"GeoTransform\": GeoTransform}\n",
    "var = {\"data\": Variable([\"x\"], data, data_attrs)}\n",
    "dataset = xr.Dataset(data_vars=var, coords=coords, attrs=ds_attrs)\n",
    "to_tiledb(dataset, '../../../../Downloads/test_gis_dataset')"
   ]
  },
  {
   "cell_type": "code",
   "execution_count": null,
   "id": "758aeab6",
   "metadata": {},
   "outputs": [],
   "source": [
    "tdb_path = '../../../../Downloads/test_gis_dataset'\n",
    "\n"
   ]
  }
 ],
 "metadata": {
  "kernelspec": {
   "display_name": "Python 3 (ipykernel)",
   "language": "python",
   "name": "python3"
  },
  "language_info": {
   "codemirror_mode": {
    "name": "ipython",
    "version": 3
   },
   "file_extension": ".py",
   "mimetype": "text/x-python",
   "name": "python",
   "nbconvert_exporter": "python",
   "pygments_lexer": "ipython3",
   "version": "3.8.5"
  }
 },
 "nbformat": 4,
 "nbformat_minor": 5
}
