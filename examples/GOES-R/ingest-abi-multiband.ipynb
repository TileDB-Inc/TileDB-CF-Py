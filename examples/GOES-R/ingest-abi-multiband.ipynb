{
 "cells": [
  {
   "cell_type": "markdown",
   "source": [
    "# GOES-R Level 1b Multiband Ingestion\n",
    "\n",
    "## About\n",
    "\n",
    "This notebook shows an example of ingesting multiple NetCDF files into a single TileDB group using TileDB-CF-Py. It can be a jumping point for constructing a GOES-R dataset tuned to your specific use case, or just a useful example for understanding the `NetCDF4ConverterEngine`.\n",
    "\n",
    "## Requirements\n",
    "\n",
    "### Data\n",
    "\n",
    "This notebook uses GOES-R L1b radiance data that has been downloaded locally to a specific folder in the project repository. See the script [data/fetch_data.sh](data/fetch_data.sh) for the path hard-coded in this example.\n",
    "\n",
    "### Software\n",
    "\n",
    "This notebook was tested with Python 3.9.0, but should work with any Python version that is supported by all required libraries. It requires the following Python libraries:\n",
    "\n",
    "* `tiledb`\n",
    "* `tiledb-cf`\n",
    "* `numpy`\n",
    "* `netCDF4`"
   ],
   "metadata": {}
  },
  {
   "cell_type": "code",
   "execution_count": null,
   "source": [
    "import glob\n",
    "\n",
    "import tiledb\n",
    "import tiledb.cf\n",
    "import numpy as np"
   ],
   "outputs": [],
   "metadata": {}
  },
  {
   "cell_type": "markdown",
   "source": [
    "In this example, we use the TileDB-CF NetCDF4ConverterEngine to combine a dataset of files.\n",
    "\n",
    "Get all ABI files from a single hour. Split the files into separate lists depending on which group they were in."
   ],
   "metadata": {}
  },
  {
   "cell_type": "code",
   "execution_count": null,
   "source": [
    "abi_files = tuple(glob.glob(f\"data/noaa-goes17/ABI-L1b-RadF/2021/264/18/OR_ABI-L1b-RadF-M6C{band:02.0f}*.nc\") for band in range(1, 12))\n",
    "dim_dtype = np.uint32"
   ],
   "outputs": [],
   "metadata": {}
  },
  {
   "cell_type": "markdown",
   "source": [
    "Create a converter for the ABI files. Generate from a file, then view and modify."
   ],
   "metadata": {}
  },
  {
   "cell_type": "code",
   "execution_count": null,
   "source": [
    "abi_converter = tiledb.cf.NetCDF4ConverterEngine.from_file(abi_files[0][0], dim_dtype=np.uint32)\n",
    "abi_converter"
   ],
   "outputs": [],
   "metadata": {}
  },
  {
   "cell_type": "markdown",
   "source": [
    "## Add dimensions for file band and timestamp"
   ],
   "metadata": {}
  },
  {
   "cell_type": "code",
   "execution_count": null,
   "source": [
    "abi_converter.add_shared_dim(\"band\", domain=(1, 12), dtype=dim_dtype)\n",
    "abi_converter.add_shared_dim(\"time.index\", domain=(0, 143), dtype=dim_dtype)\n",
    "for array_creator in abi_converter:\n",
    "    array_creator.domain.inject_dim_creator(\"band\", 0)\n",
    "    array_creator.domain.inject_dim_creator(\"time.index\", 1)\n"
   ],
   "outputs": [],
   "metadata": {}
  },
  {
   "cell_type": "code",
   "execution_count": null,
   "source": [
    "abi_converter.add_shared_dim(\n",
    "    \"midscan_time\",\n",
    "    domain=(np.datetime64(\"2000\", \"ms\"), np.datetime64(\"2051\", \"ms\")),\n",
    "    dtype=np.dtype(\"datetime64[ms]\"),\n",
    ")\n",
    "abi_converter.add_array_converter(\"time_axis_label\", (\"midscan_tile\",), sparse=True, tiles=(1024,))"
   ],
   "outputs": [],
   "metadata": {}
  }
 ],
 "metadata": {
  "orig_nbformat": 4,
  "language_info": {
   "name": "python",
   "version": "3.9.0",
   "mimetype": "text/x-python",
   "codemirror_mode": {
    "name": "ipython",
    "version": 3
   },
   "pygments_lexer": "ipython3",
   "nbconvert_exporter": "python",
   "file_extension": ".py"
  },
  "kernelspec": {
   "name": "python3",
   "display_name": "Python 3.9.0 64-bit ('cf-3.9.0': pyenv)"
  },
  "interpreter": {
   "hash": "f83ddd6991e62697b8e1c78d35b449f256fb868317b9158045034ef8d7136941"
  }
 },
 "nbformat": 4,
 "nbformat_minor": 2
}