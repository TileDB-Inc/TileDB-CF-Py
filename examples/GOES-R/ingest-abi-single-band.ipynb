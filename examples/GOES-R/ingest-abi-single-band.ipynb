{
 "cells": [
  {
   "cell_type": "markdown",
   "metadata": {},
   "source": [
    "# GOES-R Level 1b Single Band Ingestion\n",
    "\n",
    "## About\n",
    "\n",
    "This notebook shows an example of ingesting multiple NetCDF files into a single TileDB group using TileDB-CF-Py. It can be a jumping point for constructing a GOES-R dataset tuned to your specific use case, or just a useful example for understanding the `NetCDF4ConverterEngine`.\n",
    "\n",
    "## Requirements\n",
    "\n",
    "### Data\n",
    "\n",
    "This notebook uses GOES-R L1b radiance data that has been downloaded locally to a specific folder in the project repository. See the script [data/fetch_data.sh](data/fetch_data.sh) for the path hard-coded in this example.\n",
    "\n",
    "### Software\n",
    "\n",
    "This notebook was tested with Python 3.9.0, but should work with any Python version that is supported by all required libraries. It requires the following Python libraries:\n",
    "\n",
    "* `tiledb`\n",
    "* `tiledb-cf`\n",
    "* `numpy`\n",
    "* `netCDF4`"
   ]
  },
  {
   "cell_type": "code",
   "execution_count": null,
   "metadata": {},
   "outputs": [],
   "source": [
    "import glob\n",
    "\n",
    "import tiledb\n",
    "import tiledb.cf\n",
    "import netCDF4\n",
    "import numpy as np"
   ]
  },
  {
   "cell_type": "markdown",
   "metadata": {},
   "source": [
    "## Find NetCDF files & auto-generate converter\n",
    "\n",
    "In this example, we use the TileDB-CF NetCDF4ConverterEngine to combine a dataset of files. We will show the example for data from band 1, but feel free to pick a different channel.\n",
    "\n",
    "We start by setting some variables:\n",
    "\n",
    "* `band`: The band (channel) of data we want to copy the radiance product for. Must be between 1-12.\n",
    "* `group_uri`: Location of the new TileDB group. We store it locally, but you can also store it in the cloud! (e.g. `s3://my-bucket` - best if ran from ec2 instance in same region)\n",
    "* `dim_dtype`: We can pick the data type we want to use for dense arrays. See []() for more information on the different options."
   ]
  },
  {
   "cell_type": "code",
   "execution_count": null,
   "metadata": {},
   "outputs": [],
   "source": [
    "band = 1\n",
    "group_uri = f\"output/ABI-L1b-RadF-C{band:02.0f}\"\n",
    "dim_dtype = np.dtype(\"uint32\")\n",
    "print(f\"Copy band {band} to location '{group_uri}' using dimension data type '{dim_dtype}'.\")"
   ]
  },
  {
   "cell_type": "code",
   "execution_count": null,
   "metadata": {},
   "outputs": [],
   "source": [
    "abi_files = glob.glob(f\"data/noaa-goes17/ABI-L1b-RadF/2021/264/18/OR_ABI-L1b-RadF-M6C{band:02.0f}*.nc\")\n",
    "abi_files"
   ]
  },
  {
   "cell_type": "markdown",
   "metadata": {},
   "source": [
    "Create a converter for the ABI files. Generate from a file, then view and modify.\n",
    "\n",
    "** Note: If `NetCDF4ConverterEngine` is not found, it probably means you do not have `netCDF4` installed in your current Python environment. Trying installing `netCDF4` and restarting the kernel."
   ]
  },
  {
   "cell_type": "code",
   "execution_count": null,
   "metadata": {},
   "outputs": [],
   "source": [
    "abi_converter = tiledb.cf.NetCDF4ConverterEngine.from_file(abi_files[0], dim_dtype=dim_dtype)\n",
    "abi_converter"
   ]
  },
  {
   "cell_type": "markdown",
   "metadata": {},
   "source": [
    "## Add time dimension and extra array for time data\n",
    "\n",
    "We add a `time` dimension with domain large enough to hold each scan in the day. For each scan we will copy "
   ]
  },
  {
   "cell_type": "code",
   "execution_count": null,
   "metadata": {},
   "outputs": [],
   "source": [
    "abi_converter.add_shared_dim(\"time\", domain=(0, 143), dtype=dim_dtype)\n",
    "for array_creator in abi_converter.array_creators():\n",
    "    array_creator.domain_creator.inject_dim_creator(\"time\", -1)\n",
    "abi_converter"
   ]
  },
  {
   "cell_type": "code",
   "execution_count": null,
   "metadata": {},
   "outputs": [],
   "source": [
    "abi_converter.add_array_converter(array_name=\"time_axis_data\", dims=(\"time\",))\n",
    "abi_converter.add_attr_creator(attr_name=\"time.data\", array_name=\"time_axis_data\", dtype=np.dtype(\"datetime64[ms]\"))"
   ]
  },
  {
   "cell_type": "markdown",
   "metadata": {},
   "source": [
    "## Update array properties"
   ]
  },
  {
   "cell_type": "code",
   "execution_count": null,
   "metadata": {},
   "outputs": [],
   "source": [
    "abi_converter.get_array_creator(\"array0\").name = \"dataset_information\"\n",
    "abi_converter.get_array_creator(\"array1\").name = \"band\"\n",
    "abi_converter.get_array_creator(\"array2\").name = \"star_looks\"\n",
    "abi_converter.get_array_creator(\"array3\").name = \"image_bounds\"\n",
    "abi_converter.get_array_creator(\"array4\").name = \"time_bounds\"\n",
    "abi_converter.get_array_creator(\"array5\").name = \"x\"\n",
    "abi_converter.get_array_creator(\"array6\").name = \"y\"\n",
    "abi_converter.get_array_creator(\"array7\").name = \"fixed_grid\"\n"
   ]
  },
  {
   "cell_type": "code",
   "execution_count": null,
   "metadata": {},
   "outputs": [],
   "source": [
    "abi_converter"
   ]
  },
  {
   "cell_type": "markdown",
   "metadata": {},
   "source": [
    "## Update array for ABI grid"
   ]
  },
  {
   "cell_type": "code",
   "execution_count": null,
   "metadata": {},
   "outputs": [],
   "source": []
  },
  {
   "cell_type": "markdown",
   "metadata": {},
   "source": [
    "## Create TileDB group and write data"
   ]
  },
  {
   "cell_type": "code",
   "execution_count": null,
   "metadata": {},
   "outputs": [],
   "source": [
    "# WARNING! This will fully remove all data at `group_uri` for your compute.\n",
    "# This will remove any files existing at `group_uri`. It is useful if you would like to create a new instance of the TileDB group.\n",
    "import shutil\n",
    "\n",
    "if True:\n",
    "    shutil.rmtree(group_uri, ignore_errors=True)"
   ]
  },
  {
   "cell_type": "markdown",
   "metadata": {},
   "source": [
    "Now let's create our new TileDB group!"
   ]
  },
  {
   "cell_type": "code",
   "execution_count": null,
   "metadata": {},
   "outputs": [],
   "source": [
    "abi_converter.create_group(group_uri)"
   ]
  },
  {
   "cell_type": "markdown",
   "metadata": {},
   "source": [
    "... and (finally) copy some data in."
   ]
  },
  {
   "cell_type": "code",
   "execution_count": null,
   "metadata": {},
   "outputs": [],
   "source": [
    "# Copy in 1 time data\n"
   ]
  },
  {
   "cell_type": "code",
   "execution_count": null,
   "metadata": {},
   "outputs": [],
   "source": [
    "for netcdf_file in abi_files:\n",
    "    with netCDF4.Dataset(netcdf_file, mode=\"r\") as netcdf_group:\n",
    "        midscan_time = netcdf_group.variables[\"t\"][:]\n",
    "        print(midscan_time)"
   ]
  },
  {
   "cell_type": "code",
   "execution_count": null,
   "metadata": {},
   "outputs": [],
   "source": []
  }
 ],
 "metadata": {
  "interpreter": {
   "hash": "022b808d35d9188bc114e3dbdd31978ae285e77fefec36d9e39c13a87da8d5e5"
  },
  "kernelspec": {
   "display_name": "Python 3.9.0 64-bit ('cf-3.9.0': pyenv)",
   "name": "python3"
  },
  "language_info": {
   "codemirror_mode": {
    "name": "ipython",
    "version": 3
   },
   "file_extension": ".py",
   "mimetype": "text/x-python",
   "name": "python",
   "nbconvert_exporter": "python",
   "pygments_lexer": "ipython3",
   "version": "3.9.0"
  },
  "orig_nbformat": 4
 },
 "nbformat": 4,
 "nbformat_minor": 2
}
