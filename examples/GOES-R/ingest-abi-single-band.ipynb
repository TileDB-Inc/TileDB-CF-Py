{
 "cells": [
  {
   "cell_type": "markdown",
   "source": [
    "# GOES-R Level 1b Single Band Ingestion\n",
    "\n",
    "## About\n",
    "\n",
    "This notebook shows an example of ingesting multiple NetCDF files into a single TileDB group using TileDB-CF-Py. It can be a jumping point for constructing a GOES-R dataset tuned to your specific use case, or just a useful example for understanding the `NetCDF4ConverterEngine`.\n",
    "\n",
    "## Requirements\n",
    "\n",
    "### Data\n",
    "\n",
    "This notebook uses GOES-R L1b radiance data that has been downloaded locally to a specific folder in the project repository. See the script [data/fetch_data.sh](data/fetch_data.sh) for the path hard-coded in this example.\n",
    "\n",
    "### Software\n",
    "\n",
    "This notebook was tested with Python 3.9.0, but should work with any Python version that is supported by all required libraries. It requires the following Python libraries:\n",
    "\n",
    "* `tiledb`\n",
    "* `tiledb-cf`\n",
    "* `numpy`\n",
    "* `netCDF4`"
   ],
   "metadata": {}
  },
  {
   "cell_type": "code",
   "execution_count": null,
   "source": [
    "import glob\n",
    "\n",
    "import tiledb\n",
    "import tiledb.cf\n",
    "import numpy as np"
   ],
   "outputs": [],
   "metadata": {}
  },
  {
   "cell_type": "markdown",
   "source": [
    "## Find files and auto-generate converter\n",
    "\n",
    "In this example, we use the TileDB-CF NetCDF4ConverterEngine to combine a dataset of files. We will show the example for data from band 1, but feel free to pick a different channel.\n",
    "\n",
    "We start by setting some variables:\n",
    "\n",
    "* `band`: The band (channel) of data we want to copy the radiance product for. Must be between 1-12.\n",
    "* `group_uri`: Location of the new TileDB group. We store it locally, but you can also store it in the cloud! (e.g. `s3://my-bucket` - best if ran from ec2 instance in same region)\n",
    "* `dim_dtype`: We can pick the data type we want to use for dense arrays. See []() for more information on the different options."
   ],
   "metadata": {}
  },
  {
   "cell_type": "code",
   "execution_count": null,
   "source": [
    "band = 1\n",
    "group_uri = f\"output/ABI-L1b-RadF-C{band:02.0f}\"\n",
    "dim_dtype = np.dtype(\"uint32\")\n",
    "print(f\"Copy band {band} to location `{group_uri}` using dimension data type `{dim_dtype}`.\")"
   ],
   "outputs": [],
   "metadata": {}
  },
  {
   "cell_type": "code",
   "execution_count": null,
   "source": [
    "abi_files = glob.glob(f\"data/noaa-goes17/ABI-L1b-RadF/2021/264/18/OR_ABI-L1b-RadF-M6C{band:02.0f}*.nc\")\n",
    "abi_files"
   ],
   "outputs": [],
   "metadata": {}
  },
  {
   "cell_type": "markdown",
   "source": [
    "Create a converter for the ABI files. Generate from a file, then view and modify.\n",
    "\n",
    "** Note: If `NetCDF4ConverterEngine` is not found, it probably means you do not have `netCDF4` installed in your current Python environment. Trying installing `netCDF4` and restarting the kernel."
   ],
   "metadata": {}
  },
  {
   "cell_type": "code",
   "execution_count": null,
   "source": [
    "abi_converter = tiledb.cf.NetCDF4ConverterEngine.from_file(abi_files[0], dim_dtype=dim_dtype)\n",
    "abi_converter"
   ],
   "outputs": [],
   "metadata": {}
  },
  {
   "cell_type": "markdown",
   "source": [
    "## Add time dimension and axis label"
   ],
   "metadata": {}
  },
  {
   "cell_type": "code",
   "execution_count": null,
   "source": [
    "abi_converter.add_shared_dim(\"time\", domain=(0, 143), dtype=dim_dtype) # large enough to hold each scan in the day\n",
    "for array_creator in abi_converter.array_creators():\n",
    "    array_creator.domain_creator.inject_dim_creator(\"time\", 1)\n",
    "abi_converter"
   ],
   "outputs": [],
   "metadata": {}
  },
  {
   "cell_type": "markdown",
   "source": [
    "## Update array for dataset information"
   ],
   "metadata": {}
  },
  {
   "cell_type": "code",
   "execution_count": null,
   "source": [
    "info_array = abi_converter.get_array_creator_by_attr(\"goes_imager_projection\")\n",
    "info_array.name = \"dataset_information\"\n",
    "info_array.domain_creator.remove_dim_creator(\"__scalars\")\n"
   ],
   "outputs": [],
   "metadata": {}
  },
  {
   "cell_type": "markdown",
   "source": [
    "## Create TileDB group and write data"
   ],
   "metadata": {}
  },
  {
   "cell_type": "code",
   "execution_count": null,
   "source": [
    "# WARNING! Deleting a folder on your computer. Proceed with caution.\n",
    "# This will remove any files existing at `group_uri`. It is useful if you would like to create a new instance of the TileDB group.\n",
    "import shutil\n",
    "\n",
    "if True:\n",
    "    shutil.rmtree(group_uri, ignore_errors=True)"
   ],
   "outputs": [],
   "metadata": {}
  },
  {
   "cell_type": "markdown",
   "source": [
    "Now let's create our new TileDB group!"
   ],
   "metadata": {}
  },
  {
   "cell_type": "code",
   "execution_count": null,
   "source": [
    "abi_converter.create_group(group_uri)"
   ],
   "outputs": [],
   "metadata": {}
  },
  {
   "cell_type": "markdown",
   "source": [
    "... and (finally) copy some data in."
   ],
   "metadata": {}
  },
  {
   "cell_type": "code",
   "execution_count": null,
   "source": [],
   "outputs": [],
   "metadata": {}
  }
 ],
 "metadata": {
  "orig_nbformat": 4,
  "language_info": {
   "name": "python",
   "version": "3.9.0",
   "mimetype": "text/x-python",
   "codemirror_mode": {
    "name": "ipython",
    "version": 3
   },
   "pygments_lexer": "ipython3",
   "nbconvert_exporter": "python",
   "file_extension": ".py"
  },
  "kernelspec": {
   "name": "python3",
   "display_name": "Python 3.9.0 64-bit ('cf-3.9.0': pyenv)"
  },
  "interpreter": {
   "hash": "f83ddd6991e62697b8e1c78d35b449f256fb868317b9158045034ef8d7136941"
  }
 },
 "nbformat": 4,
 "nbformat_minor": 2
}