{
 "cells": [
  {
   "cell_type": "markdown",
   "metadata": {},
   "source": [
    "# Converting a simple NetCDF file to a TileDB array\n",
    "\n",
    "## Import packages"
   ]
  },
  {
   "cell_type": "code",
   "execution_count": null,
   "metadata": {},
   "outputs": [],
   "source": [
    "import netCDF4\n",
    "import numpy as np\n",
    "import tiledb\n",
    "from tiledb.cf import Group, GroupSchema\n",
    "from tiledb.cf.engines.netcdf4_engine import NetCDF4ConverterEngine\n",
    "import matplotlib.pyplot as plt"
   ]
  },
  {
   "cell_type": "markdown",
   "metadata": {},
   "source": [
    "## Create an example NetCDF file\n",
    "\n",
    "### Example dataset\n",
    "\n",
    "Create two 100x100 numpy arrays:"
   ]
  },
  {
   "cell_type": "code",
   "execution_count": null,
   "metadata": {},
   "outputs": [],
   "source": [
    "x_data = np.linspace(-5.0, 5.0, 100)\n",
    "y_data = np.linspace(-5.0, 5.0, 100)\n",
    "xv, yv = np.meshgrid(x_data, y_data, sparse=True)\n",
    "A1_data = xv + yv\n",
    "A2_data = np.sin((xv / 2.0) ** 2 + yv ** 2)"
   ]
  },
  {
   "cell_type": "markdown",
   "metadata": {},
   "source": [
    "If the file does not exist yet, write the example data to a netcdf file:"
   ]
  },
  {
   "cell_type": "code",
   "execution_count": null,
   "metadata": {},
   "outputs": [],
   "source": [
    "netcdf_file = \"output/simple1.nc\"\n",
    "vfs = tiledb.VFS()\n",
    "if not vfs.is_file(netcdf_file):\n",
    "    with netCDF4.Dataset(netcdf_file, mode=\"w\") as dataset:\n",
    "        dataset.setncatts({\"title\": \"Simple dataset for examples\"})\n",
    "        dataset.createDimension(\"x\", 100)\n",
    "        dataset.createDimension(\"y\", 100)\n",
    "        A1 = dataset.createVariable(\"A1\", np.float64, (\"x\", \"y\"))\n",
    "        A1.setncattr(\"full_name\", \"Example matrix A1\")\n",
    "        A1.setncattr(\"description\", \"x + y\")\n",
    "        A1[:, :] = A1_data\n",
    "        A2 = dataset.createVariable(\"A2\", np.float64, (\"x\", \"y\"))\n",
    "        A2[:, :] = A2_data\n",
    "        A2.setncattr(\"full_name\", \"Example matrix A2\")\n",
    "        A2.setncattr(\"description\", \"sin((x/2)^2 + y^2\")\n",
    "        x1 = dataset.createVariable(\"x_data\", np.float64, (\"x\",))\n",
    "        x1[:] = x_data\n",
    "        y = dataset.createVariable(\"y_data\", np.float64, (\"y\",))\n",
    "        y[:] = y_data\n",
    "    print(f\"Created example NetCDF file `{netcdf_file}`.\")\n",
    "else:\n",
    "    print(f\"Example NetCDF file `{netcdf_file}` already exists.\")\n"
   ]
  },
  {
   "cell_type": "markdown",
   "metadata": {},
   "source": [
    "Examine the variables in the netcdf file:"
   ]
  },
  {
   "cell_type": "code",
   "execution_count": null,
   "metadata": {},
   "outputs": [],
   "source": [
    "netcdf_data = netCDF4.Dataset(netcdf_file)\n",
    "print(netcdf_data.variables)"
   ]
  },
  {
   "cell_type": "markdown",
   "metadata": {},
   "source": [
    "## Convert the NetCDF file to a TileDB array\n",
    "\n",
    "Before converting the file create a converter that contains the parameters for the conversion. \n",
    "\n",
    "Optionally the following parameters can be added:\n",
    "\n",
    "* `unlimited_dim_size`: The size of the domain for TileDB dimensions created from unlimited NetCDF dimensions.\n",
    "* `dim_dtype`: The numpy dtype for TileDB dimensions.\n",
    "* `tiles_by_var`: A map from the name of a NetCDF variable to the tiles of the dimensions of the variable in the generated NetCDF array.\n",
    "* `tiles_by_dims`: A map from the name of NetCDF dimensions defining a variable to the tiles of those dimensions in the generated NetCDF array.\n",
    "* `collect_attrs`: If True, store all attributes with the same dimensions in the same array. Otherwise, store each attribute in a scalar array.\n",
    "* `collect_scalar_attrs`: If True, store all attributes with no dimensions in the same array. This is always done if collect_attributes=True.\n",
    "\n",
    "For example, the below converter will create a separate array for each of the attributes in the NetCDf file with `collect_attrs=False`:\n",
    "\n",
    "```\n",
    "converter = NetCDF4ConverterEngine.from_file(\n",
    "    netcdf_file,\n",
    "    collect_attrs = False\n",
    ")\n",
    "```"
   ]
  },
  {
   "cell_type": "code",
   "execution_count": null,
   "metadata": {},
   "outputs": [],
   "source": [
    "converter = NetCDF4ConverterEngine.from_file(\n",
    "    netcdf_file,\n",
    "    coords_to_dims=False,\n",
    "    collect_attrs=True,\n",
    "    dim_dtype=np.uint32,\n",
    "    tiles_by_dims={(\"x\", \"y\"): (20,20), (\"x\",): (20,), (\"y\",): (20,)},\n",
    ")\n",
    "converter"
   ]
  },
  {
   "cell_type": "markdown",
   "metadata": {},
   "source": [
    "Rename the array names to be more descriptive:"
   ]
  },
  {
   "cell_type": "code",
   "execution_count": null,
   "metadata": {},
   "outputs": [],
   "source": [
    "converter.rename_array('array0', 'x')\n",
    "converter.rename_array('array1', 'matrices')\n",
    "converter.rename_array('array2', 'y')"
   ]
  },
  {
   "cell_type": "markdown",
   "metadata": {},
   "source": [
    "Run the conversions to create two dense TileDB arrays:"
   ]
  },
  {
   "cell_type": "code",
   "execution_count": null,
   "metadata": {},
   "outputs": [],
   "source": [
    "group_uri = \"output/tiledb_simple1\"\n",
    "converter.convert_to_group(group_uri)"
   ]
  },
  {
   "cell_type": "markdown",
   "metadata": {},
   "source": [
    "## Examine the TileDB group schema"
   ]
  },
  {
   "cell_type": "code",
   "execution_count": null,
   "metadata": {},
   "outputs": [],
   "source": [
    "group_schema = GroupSchema.load(group_uri)\n",
    "group_schema"
   ]
  },
  {
   "cell_type": "markdown",
   "metadata": {},
   "source": [
    "## Examine the data in the arrays\n",
    "\n",
    "Open the attributes from the generated TileDB group:"
   ]
  },
  {
   "cell_type": "code",
   "execution_count": null,
   "metadata": {},
   "outputs": [],
   "source": [
    "with Group(group_uri, attr=\"x.data\") as group:\n",
    "    x = group.array[:]\n",
    "with Group(group_uri, attr=\"y.data\") as group:\n",
    "    y = group.array[:]\n",
    "with Group(group_uri, array=\"matrices\") as group:\n",
    "    data = group.array[...]\n",
    "    A1 = data[\"A1\"]\n",
    "    A2 = data[\"A2\"]\n",
    "    a1_description = group.get_attr_metadata(\"A1\")[\"description\"]\n",
    "    a2_description = group.get_attr_metadata(\"A2\")[\"description\"]"
   ]
  },
  {
   "cell_type": "code",
   "execution_count": null,
   "metadata": {},
   "outputs": [],
   "source": [
    "fig, axes = plt.subplots(nrows=1, ncols=2)\n",
    "axes[0].contourf(x, y, A1);\n",
    "axes[0].set_title(a1_description);\n",
    "axes[1].contourf(x, y, A2);\n",
    "axes[1].set_title(a2_description);"
   ]
  },
  {
   "cell_type": "code",
   "execution_count": null,
   "metadata": {},
   "outputs": [],
   "source": []
  }
 ],
 "metadata": {
  "kernelspec": {
   "display_name": "netcdf-dev",
   "language": "python",
   "name": "netcdf-dev"
  },
  "language_info": {
   "codemirror_mode": {
    "name": "ipython",
    "version": 3
   },
   "file_extension": ".py",
   "mimetype": "text/x-python",
   "name": "python",
   "nbconvert_exporter": "python",
   "pygments_lexer": "ipython3",
   "version": "3.7.10"
  },
  "metadata": {
   "interpreter": {
    "hash": "f83ddd6991e62697b8e1c78d35b449f256fb868317b9158045034ef8d7136941"
   }
  }
 },
 "nbformat": 4,
 "nbformat_minor": 4
}