{
 "cells": [
  {
   "cell_type": "markdown",
   "source": [
    "# Converting a simple NetCDF file to a TileDB array\n",
    "\n",
    "## About this Example\n",
    "\n",
    "### What it Shows\n",
    "\n",
    "The purpose of this example is to show the basics of converting a NetCDF file to TileDB array.s\n",
    "\n",
    "This includes:\n",
    "\n",
    "1. Options for auto-generating a converter from a NetCDF file.\n",
    "2. Changing the TileDB schema settings before conversion.\n",
    "3. Creating the TileDB group and copying data from the NetCDF file to the TileDB array.\n",
    "\n",
    "### Example dataset\n",
    "\n",
    "This example shows convertering a small NetCDF file with 2 dimensions and 4 variables:\n",
    "\n",
    "* Dimensions:\n",
    "    * x: size=100\n",
    "    * y: size=100\n",
    "* Variables:\n",
    "    * x(x)\n",
    "        * description: evenly spaced values from -5 to 5\n",
    "        * data type: 64-bit floating point\n",
    "    * y(x)\n",
    "        * description: evenly spaced values from -5 to 5\n",
    "        * data type: 64-bit floating point\n",
    "    * A1(x, y)\n",
    "        * description: x + y\n",
    "        * data type: 64-bit floating point\n",
    "    * A1(x, y)\n",
    "        * description: sin((x/2)^2 + y^2\n",
    "        * data type: 64-bit floating point\n",
    "\n",
    "### Set-up Requirements\n",
    "\n",
    "This example requires the following python packages are installed: netCDF4, numpy, tiledb, tiledb-cf, and matplotlib\n"
   ],
   "metadata": {}
  },
  {
   "cell_type": "code",
   "execution_count": null,
   "source": [
    "import netCDF4\n",
    "import numpy as np\n",
    "import tiledb\n",
    "from tiledb.cf import AttrMetadata, Group, GroupSchema, NetCDF4ConverterEngine\n",
    "import matplotlib.pyplot as plt\n",
    "\n",
    "netcdf_file = \"output/simple1.nc\""
   ],
   "outputs": [],
   "metadata": {}
  },
  {
   "cell_type": "markdown",
   "source": [
    "## Create an example NetCDF file\n",
    "\n",
    "If the NetCDF file does not exist, we create a small NetCDF file for this example. "
   ],
   "metadata": {}
  },
  {
   "cell_type": "code",
   "execution_count": null,
   "source": [
    "vfs = tiledb.VFS()\n",
    "if not vfs.is_file(netcdf_file):\n",
    "    x_data = np.linspace(-5.0, 5.0, 100)\n",
    "    y_data = np.linspace(-5.0, 5.0, 100)\n",
    "    xv, yv = np.meshgrid(x_data, y_data, sparse=True)\n",
    "    with netCDF4.Dataset(netcdf_file, mode=\"w\") as dataset:\n",
    "        dataset.setncatts({\"title\": \"Simple dataset for examples\"})\n",
    "        dataset.createDimension(\"x\", 100)\n",
    "        dataset.createDimension(\"y\", 100)\n",
    "        A1 = dataset.createVariable(\"A1\", np.float64, (\"x\", \"y\"))\n",
    "        A1.setncattr(\"full_name\", \"Example matrix A1\")\n",
    "        A1.setncattr(\"description\", \"x + y\")\n",
    "        A1[:, :] = xv + yv\n",
    "        A2 = dataset.createVariable(\"A2\", np.float64, (\"x\", \"y\"))\n",
    "        A2[:, :] = np.sin((xv / 2.0) ** 2 + yv ** 2)\n",
    "        A2.setncattr(\"full_name\", \"Example matrix A2\")\n",
    "        A2.setncattr(\"description\", \"sin((x/2)^2 + y^2\")\n",
    "        x1 = dataset.createVariable(\"x_data\", np.float64, (\"x\",))\n",
    "        x1[:] = x_data\n",
    "        y = dataset.createVariable(\"y_data\", np.float64, (\"y\",))\n",
    "        y[:] = y_data\n",
    "    print(f\"Created example NetCDF file `{netcdf_file}`.\")\n",
    "else:\n",
    "    print(f\"Example NetCDF file `{netcdf_file}` already exists.\")\n"
   ],
   "outputs": [],
   "metadata": {}
  },
  {
   "cell_type": "markdown",
   "source": [
    "## Auto-Generating Converter from File\n",
    "\n",
    "The `NetCDF4ConverterEngine.from_file` creates a `NetCDF4ConverterEngine` from a NetCDF file and group path. The properties in the `NetCDF4ConverterEngine` can be modified after the converter is generated. \n"
   ],
   "metadata": {}
  },
  {
   "cell_type": "markdown",
   "source": [
    "Parameters:\n",
    "\n",
    "* Set the location of the NetCDF group to be converted.\n",
    "\n",
    "    * `input_file`: The input NetCDF file to generate the converter engine from.\n",
    "    * `group_path`: The path to the NetCDF group to copy data from. Use `'/'` for the root group.\n",
    "\n",
    "* Set the array grouping. A NetCDF variable maps to TileDB attributes. The `collect_attrs` parameters determines if each NetCDF variable is stored in a separate array, or if all NetCDF variables with the same underlying dimensions are stored in the same TileDB array. Scalar variables are always grouped together.\n",
    "\n",
    "    * `collect_attrs`: If `True`, store all attributes with the same dimensions in the same array. Otherwise, store each attribute in a separate array.\n",
    "\n",
    "* Set default properties for TileDB dimension. \n",
    "\n",
    "    * `unlimited_dim_size`: The default size of the domain for TileDB dimensions created from unlimited NetCDF dimensions. If `None`, the current size of the NetCDF dimension will be used.\n",
    "    * `dim_dtype`: The default numpy dtype to use when converting a NetCDF dimension to a TileDB dimension.\n",
    "\n",
    "* Set tile sizes for TileDB dimensions. Multiple arrays in the TileDB group may have the same name, domain, and type, but different tiles and compression filters. The `tiles_by_var` and `tiles_by_dims` parameters allow a way of setting the tiles for the dimensions in different arrays. The `tiles_by_var` parameter is a mapping from variable name to the tiles for the dimensions of the array that variable is stored in. The `tiles_by_dims` parameter is a mapping from the names of the dimensions of the array to the tiles for the dimensions of the array. If using `collect_attrs=True`, then `tiles_by_dims` will over-write `tiles_by_var`. If using `collect_attrs=False`, then `tiles_by_vars` with over-write `tiles_by_var`.\n",
    "\n",
    "    * `tiles_by_var`: A map from the name of a NetCDF variable to the tiles of the dimensions of the variable in the generated TileDB array.\n",
    "    * `tiles_by_dims`: A map from the name of NetCDF dimensions defining a variable to the tiles of those dimensions in the generated TileDB array.\n",
    "\n",
    "* Convert 1D variables with the same name and dimension to a TileDB dimension instead of a TileDB attribute.\n",
    "\n",
    "    * `coords_to_dims`: If `True`, convert the NetCDF coordinate variable into a TileDB dimension for sparse arrays. Otherwise, convert the coordinate dimension into a TileDB dimension and the coordinate variable into a TileDB attribute."
   ],
   "metadata": {}
  },
  {
   "cell_type": "markdown",
   "source": [
    "### Examples: Collecting attributes and setting tiles\n",
    "\n",
    "Below are some examples of how the parameter `collect_attrs`, `tiles_by_var`, and `tiles_by_dims` interact."
   ],
   "metadata": {}
  },
  {
   "cell_type": "markdown",
   "source": [
    "1. `collect_attrs=True`\n",
    "    * `A1` and `A2` are in the same array.\n",
    "    * `tile=None` for all dimensions.\n",
    "2. `collect_attrs=True`, `tiles_by_dims={(x,y): (10, 20)}`\n",
    "    * `A1` and `A2` are in the same array.\n",
    "    * Only array with dimensions `(x,y)` has tiles set.\n",
    "3. `collect_attrs=True`, `tiles_by_var={'A1': (50, 50)}`\n",
    "    * `A1` and `A2` are in the same array.\n",
    "    * Only array with variable `A1` has tiles set.\n",
    "4. `collect_attrs=True`, `tiles_by_dims={(x,y): (10, 20)}`, `tiles_by_var={'A1': (50, 50)}`\n",
    "    * `A1` and `A2` are in the same array.\n",
    "    * Only array with dimensions `(x,y)` has tiles set. `tiles_by_dims` wrote over `tiles_by_var`.\n",
    "5. `collect_attrs=False`\n",
    "    * `A1` and `A2` are in separate arrays.\n",
    "    * `tile=None` for all dimensions.\n",
    "6. `collect_attrs=False`, `tiles_by_dims={(x,y): (10, 20)}`\n",
    "    * `A1` and `A2` are in separate arrays.\n",
    "    * Only arrays with dimensions `(x,y)` have tiles set.\n",
    "7. `collect_attrs=False`, `tiles_by_var={'A1': (50, 50)}`\n",
    "    * `A1` and `A2` are in separate arrays.\n",
    "    * Only array with variable `A1` has tiles set.\n",
    "8. `collect_attrs=False`, `tiles_by_dims={(x,y): (10, 20)}`, `tiles_by_var={'A1': (50, 50)}`\n",
    "    * `A1` and `A2` are in separate arrays.\n",
    "    * The array with `A2` has tiles set by `tiles_by_dims`.\n",
    "    * The array with `A1` has tiles set with `tiles_by_var` writing over `tiles_by_dims`. "
   ],
   "metadata": {}
  },
  {
   "cell_type": "markdown",
   "source": [],
   "metadata": {}
  },
  {
   "cell_type": "code",
   "execution_count": null,
   "source": [
    "NetCDF4ConverterEngine.from_file(netcdf_file, collect_attrs=True)"
   ],
   "outputs": [],
   "metadata": {}
  },
  {
   "cell_type": "code",
   "execution_count": null,
   "source": [
    "NetCDF4ConverterEngine.from_file(netcdf_file, collect_attrs=True, tiles_by_dims={(\"x\", \"y\"): (10, 20)})"
   ],
   "outputs": [],
   "metadata": {}
  },
  {
   "cell_type": "code",
   "execution_count": null,
   "source": [
    "NetCDF4ConverterEngine.from_file(netcdf_file, collect_attrs=True, tiles_by_var={'A1': (50, 50)})"
   ],
   "outputs": [],
   "metadata": {}
  },
  {
   "cell_type": "code",
   "execution_count": null,
   "source": [
    "NetCDF4ConverterEngine.from_file(netcdf_file, collect_attrs=True, tiles_by_var={'A1': (50, 50)}, tiles_by_dims={(\"x\", \"y\"): (10, 20)})"
   ],
   "outputs": [],
   "metadata": {}
  },
  {
   "cell_type": "code",
   "execution_count": null,
   "source": [
    "NetCDF4ConverterEngine.from_file(netcdf_file, collect_attrs=False)"
   ],
   "outputs": [],
   "metadata": {}
  },
  {
   "cell_type": "code",
   "execution_count": null,
   "source": [
    "NetCDF4ConverterEngine.from_file(netcdf_file, collect_attrs=False, tiles_by_dims={(\"x\", \"y\"): (10, 20)})"
   ],
   "outputs": [],
   "metadata": {}
  },
  {
   "cell_type": "code",
   "execution_count": null,
   "source": [
    "NetCDF4ConverterEngine.from_file(netcdf_file, collect_attrs=False, tiles_by_var={'A1': (50, 50)})"
   ],
   "outputs": [],
   "metadata": {}
  },
  {
   "cell_type": "code",
   "execution_count": null,
   "source": [
    "NetCDF4ConverterEngine.from_file(netcdf_file, collect_attrs=False, tiles_by_var={'A1': (50, 50)}, tiles_by_dims={\"(x, y)\": (10, 20)})"
   ],
   "outputs": [],
   "metadata": {}
  },
  {
   "cell_type": "markdown",
   "source": [
    "## Convert `simple1.nc` to a TileDB Group\n",
    "\n",
    "In this example, we create a NetCDF4ConverterEngine from the NetCDF file and manually change properties of the TileDB arrays before conversion. NetCDF dimensions are mapped to TileDB dimensions, and NetCDF variables are mapped to TileDB attributes."
   ],
   "metadata": {}
  },
  {
   "cell_type": "code",
   "execution_count": null,
   "source": [
    "converter = NetCDF4ConverterEngine.from_file(netcdf_file, collect_attrs=True, dim_dtype=np.uint32)\n",
    "converter"
   ],
   "outputs": [],
   "metadata": {}
  },
  {
   "cell_type": "code",
   "execution_count": null,
   "source": [
    "# Update properties manually by modifying the array creators\n",
    "# 1. Update properties for x \n",
    "x_array = converter.get_array_creator_by_attr(\"x.data\")\n",
    "x_array.name = \"x\"\n",
    "x_array.domain_creator.tiles = (20,)\n",
    "x_array.attr_creator(\"x.data\").filters = tiledb.FilterList([tiledb.ZstdFilter()])\n",
    "# 2. Update properties for y\n",
    "y_array = converter.get_array_creator_by_attr(\"y.data\")\n",
    "y_array.name = \"y\"\n",
    "y_array.domain_creator.tiles = (20,)\n",
    "y_array.attr_creator(\"y.data\").filters = tiledb.FilterList([tiledb.ZstdFilter()])\n",
    "# 3. Update properties for array of matrices\n",
    "data_array = converter.get_array_creator_by_attr(\"A1\")\n",
    "data_array.name = \"data\"\n",
    "data_array.domain_creator.tiles = (20, 20)\n",
    "for attr_creator in data_array:\n",
    "    attr_creator.filters = tiledb.FilterList([tiledb.ZstdFilter()])\n",
    "converter"
   ],
   "outputs": [],
   "metadata": {}
  },
  {
   "cell_type": "markdown",
   "source": [
    "Run the conversions to create two dense TileDB arrays:"
   ],
   "metadata": {}
  },
  {
   "cell_type": "code",
   "execution_count": null,
   "source": [
    "group_uri = \"output/simple_netcdf_to_group_1\"\n",
    "if tiledb.object_type(group_uri) != \"group\":\n",
    "    converter.convert_to_group(group_uri)\n",
    "else:\n",
    "    print(\"Group already exists!\")"
   ],
   "outputs": [],
   "metadata": {}
  },
  {
   "cell_type": "markdown",
   "source": [
    "### Examine the TileDB group schema"
   ],
   "metadata": {}
  },
  {
   "cell_type": "code",
   "execution_count": null,
   "source": [
    "group_schema = GroupSchema.load(group_uri)\n",
    "group_schema"
   ],
   "outputs": [],
   "metadata": {}
  },
  {
   "cell_type": "markdown",
   "source": [
    "### Examine the data in the arrays\n",
    "\n",
    "Open the attributes from the generated TileDB group:"
   ],
   "metadata": {}
  },
  {
   "cell_type": "code",
   "execution_count": null,
   "source": [
    "with Group(group_uri, attr=\"x.data\") as group:\n",
    "    with (\n",
    "        group.open_array(attr=\"x.data\") as x_array,\n",
    "        group.open_array(attr=\"y.data\") as y_array,\n",
    "        group.open_array(array=\"data\") as data_array,\n",
    "    ):\n",
    "        x = x_array[:]\n",
    "        y = y_array[:]\n",
    "        data = data_array[...]\n",
    "        A1 = data[\"A1\"]\n",
    "        A2 = data[\"A2\"]\n",
    "        a1_description = AttrMetadata(data_array.meta, \"A1\")[\"description\"]\n",
    "        a2_description = AttrMetadata(data_array.meta, \"A2\")[\"description\"]"
   ],
   "outputs": [],
   "metadata": {}
  },
  {
   "cell_type": "code",
   "execution_count": null,
   "source": [
    "fig, axes = plt.subplots(nrows=1, ncols=2)\n",
    "axes[0].contourf(x, y, A1);\n",
    "axes[0].set_title(a1_description);\n",
    "axes[1].contourf(x, y, A2);\n",
    "axes[1].set_title(a2_description);"
   ],
   "outputs": [],
   "metadata": {}
  },
  {
   "cell_type": "markdown",
   "source": [
    "## Convert `simple1.nc` to a Single Sparse TileDB Array\n",
    "\n",
    "In this example, we create a NetCDF4ConverterEngine from the NetCDF file and manually change properties of the TileDB arrays before conversion. Here we use `coord_to_dims` to convert the `x` and `y` variables to TileDB variables in a sparse array."
   ],
   "metadata": {}
  },
  {
   "cell_type": "code",
   "execution_count": null,
   "source": [
    "converter2 = NetCDF4ConverterEngine.from_file(netcdf_file, coords_to_dims=True, dim_dtype=np.uint32)\n",
    "converter2"
   ],
   "outputs": [],
   "metadata": {}
  },
  {
   "cell_type": "code",
   "execution_count": null,
   "source": [
    "# Update properties for the array\n",
    "converter2.get_shared_dim('x').domain = (-5.0, 5.0)\n",
    "converter2.get_shared_dim('y').domain = (-5.0, 5.0)\n",
    "data_array = converter2.get_array_creator(\"array0\")\n",
    "data_array.domain_creator.tiles = (1.0, 1.0)\n",
    "data_array.capacity = 400\n",
    "for attr_creator in data_array:\n",
    "    attr_creator.filters = tiledb.FilterList([tiledb.ZstdFilter()])\n",
    "converter2"
   ],
   "outputs": [],
   "metadata": {}
  },
  {
   "cell_type": "code",
   "execution_count": null,
   "source": [
    "array_uri = \"output/simple_netcdf_to_array_1\"\n",
    "if tiledb.object_type(array_uri) != \"array\":\n",
    "    converter2.convert_to_array(array_uri)\n",
    "else:\n",
    "    print(\"Group already exists!\")"
   ],
   "outputs": [],
   "metadata": {}
  },
  {
   "cell_type": "code",
   "execution_count": null,
   "source": [],
   "outputs": [],
   "metadata": {}
  }
 ],
 "metadata": {
  "kernelspec": {
   "name": "python3",
   "display_name": "Python 3.9.0 64-bit ('cf-3.9.0': pyenv)"
  },
  "language_info": {
   "codemirror_mode": {
    "name": "ipython",
    "version": 3
   },
   "file_extension": ".py",
   "mimetype": "text/x-python",
   "name": "python",
   "nbconvert_exporter": "python",
   "pygments_lexer": "ipython3",
   "version": "3.9.0"
  },
  "metadata": {
   "interpreter": {
    "hash": "f83ddd6991e62697b8e1c78d35b449f256fb868317b9158045034ef8d7136941"
   }
  },
  "interpreter": {
   "hash": "f83ddd6991e62697b8e1c78d35b449f256fb868317b9158045034ef8d7136941"
  }
 },
 "nbformat": 4,
 "nbformat_minor": 4
}