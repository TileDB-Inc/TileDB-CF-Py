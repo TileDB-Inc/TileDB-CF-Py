{
 "cells": [
  {
   "cell_type": "markdown",
   "source": [
    "# Converting a simple NetCDF file to a TileDB array\n",
    "\n",
    "## Import packages"
   ],
   "metadata": {}
  },
  {
   "cell_type": "code",
   "execution_count": null,
   "source": [
    "import netCDF4\n",
    "import numpy as np\n",
    "import tiledb\n",
    "from tiledb.cf import AttrMetadata, Group, GroupSchema, NetCDF4ConverterEngine\n",
    "import matplotlib.pyplot as plt"
   ],
   "outputs": [],
   "metadata": {}
  },
  {
   "cell_type": "markdown",
   "source": [
    "## Create an example NetCDF file\n",
    "\n",
    "### Example dataset\n",
    "\n",
    "Create two 100x100 numpy arrays:"
   ],
   "metadata": {}
  },
  {
   "cell_type": "code",
   "execution_count": null,
   "source": [
    "x_data = np.linspace(-5.0, 5.0, 100)\n",
    "y_data = np.linspace(-5.0, 5.0, 100)\n",
    "xv, yv = np.meshgrid(x_data, y_data, sparse=True)\n",
    "A1_data = xv + yv\n",
    "A2_data = np.sin((xv / 2.0) ** 2 + yv ** 2)"
   ],
   "outputs": [],
   "metadata": {}
  },
  {
   "cell_type": "markdown",
   "source": [
    "If the file does not exist yet, write the example data to a netcdf file:"
   ],
   "metadata": {}
  },
  {
   "cell_type": "code",
   "execution_count": null,
   "source": [
    "netcdf_file = \"output/simple1.nc\"\n",
    "vfs = tiledb.VFS()\n",
    "if not vfs.is_file(netcdf_file):\n",
    "    with netCDF4.Dataset(netcdf_file, mode=\"w\") as dataset:\n",
    "        dataset.setncatts({\"title\": \"Simple dataset for examples\"})\n",
    "        dataset.createDimension(\"x\", 100)\n",
    "        dataset.createDimension(\"y\", 100)\n",
    "        A1 = dataset.createVariable(\"A1\", np.float64, (\"x\", \"y\"))\n",
    "        A1.setncattr(\"full_name\", \"Example matrix A1\")\n",
    "        A1.setncattr(\"description\", \"x + y\")\n",
    "        A1[:, :] = A1_data\n",
    "        A2 = dataset.createVariable(\"A2\", np.float64, (\"x\", \"y\"))\n",
    "        A2[:, :] = A2_data\n",
    "        A2.setncattr(\"full_name\", \"Example matrix A2\")\n",
    "        A2.setncattr(\"description\", \"sin((x/2)^2 + y^2\")\n",
    "        x1 = dataset.createVariable(\"x_data\", np.float64, (\"x\",))\n",
    "        x1[:] = x_data\n",
    "        y = dataset.createVariable(\"y_data\", np.float64, (\"y\",))\n",
    "        y[:] = y_data\n",
    "    print(f\"Created example NetCDF file `{netcdf_file}`.\")\n",
    "else:\n",
    "    print(f\"Example NetCDF file `{netcdf_file}` already exists.\")\n"
   ],
   "outputs": [],
   "metadata": {}
  },
  {
   "cell_type": "markdown",
   "source": [
    "Examine the variables in the netcdf file:"
   ],
   "metadata": {}
  },
  {
   "cell_type": "code",
   "execution_count": null,
   "source": [
    "netcdf_data = netCDF4.Dataset(netcdf_file)\n",
    "print(netcdf_data.variables)"
   ],
   "outputs": [],
   "metadata": {}
  },
  {
   "cell_type": "markdown",
   "source": [
    "## Convert the NetCDF file to a TileDB array\n",
    "\n",
    "Before converting the file create a converter that contains the parameters for the conversion. The converter can be automatically generated from a NetCDF file using the `NetCDF4ConverterEngine.from_file` class method with the following parameters:\n",
    "\n",
    "* `input_file`: The input NetCDF file to generate the converter engine from.\n",
    "* `group_path`: The path to the NetCDF group to copy data from. Use `'/'` for the root group.\n",
    "* `unlimited_dim_size`: The size of the domain for TileDB dimensions created from unlimited NetCDF dimensions. If `None`, the current size of the NetCDF dimension will be used.\n",
    "* `dim_dtype`: The numpy dtype to use when converting a NetCDF dimension to a TileDB dimension.\n",
    "* `tiles_by_var`: A map from the name of a NetCDF variable to the tiles of the dimensions of the variable in the generated TileDB array.\n",
    "* `tiles_by_dims`: A map from the name of NetCDF dimensions defining a variable to the tiles of those dimensions in the generated TileDB array.\n",
    "* `coords_to_dims`: If `True`, convert the NetCDF coordinate variable into a TileDB dimension for sparse arrays. Otherwise, convert the coordinate dimension into a TileDB dimension and the coordinate variable into a TileDB attribute.\n",
    "* `collect_attrs`: If `True`, store all attributes with the same dimensions in the same array. Otherwise, store each attribute in a scalar array."
   ],
   "metadata": {}
  },
  {
   "cell_type": "code",
   "execution_count": null,
   "source": [
    "converter = NetCDF4ConverterEngine.from_file(\n",
    "    netcdf_file,\n",
    "    coords_to_dims=False,\n",
    "    collect_attrs=True,\n",
    "    dim_dtype=np.uint32,\n",
    "    tiles_by_dims={(\"x\", \"y\"): (20,20), (\"x\",): (20,), (\"y\",): (20,)},\n",
    ")\n",
    "converter"
   ],
   "outputs": [],
   "metadata": {}
  },
  {
   "cell_type": "markdown",
   "source": [
    "Rename the array names to be more descriptive:"
   ],
   "metadata": {}
  },
  {
   "cell_type": "code",
   "execution_count": null,
   "source": [
    "converter.get_array_creator('array0').name = 'x'\n",
    "converter.get_array_creator('array1').name = 'matrices'\n",
    "converter.get_array_creator('array2').name = 'y'"
   ],
   "outputs": [],
   "metadata": {}
  },
  {
   "cell_type": "markdown",
   "source": [
    "Run the conversions to create two dense TileDB arrays:"
   ],
   "metadata": {}
  },
  {
   "cell_type": "code",
   "execution_count": null,
   "source": [
    "group_uri = \"output/tiledb_simple1\"\n",
    "converter.convert_to_group(group_uri)"
   ],
   "outputs": [],
   "metadata": {}
  },
  {
   "cell_type": "markdown",
   "source": [
    "## Examine the TileDB group schema"
   ],
   "metadata": {}
  },
  {
   "cell_type": "code",
   "execution_count": null,
   "source": [
    "group_schema = GroupSchema.load(group_uri)\n",
    "group_schema"
   ],
   "outputs": [],
   "metadata": {}
  },
  {
   "cell_type": "markdown",
   "source": [
    "## Examine the data in the arrays\n",
    "\n",
    "Open the attributes from the generated TileDB group:"
   ],
   "metadata": {}
  },
  {
   "cell_type": "code",
   "execution_count": null,
   "source": [
    "with Group(group_uri, attr=\"x.data\") as group:\n",
    "    with (\n",
    "        group.open_array(attr=\"x.data\") as x_array,\n",
    "        group.open_array(attr=\"y.data\") as y_array,\n",
    "        group.open_array(array=\"matrices\") as data_array,\n",
    "    ):\n",
    "        x = x_array[:]\n",
    "        y = y_array[:]\n",
    "        data = data_array[...]\n",
    "        A1 = data[\"A1\"]\n",
    "        A2 = data[\"A2\"]\n",
    "        a1_description = AttrMetadata(data_array.meta, \"A1\")[\"description\"]\n",
    "        a2_description = AttrMetadata(data_array.meta, \"A2\")[\"description\"]"
   ],
   "outputs": [],
   "metadata": {}
  },
  {
   "cell_type": "code",
   "execution_count": null,
   "source": [
    "fig, axes = plt.subplots(nrows=1, ncols=2)\n",
    "axes[0].contourf(x, y, A1);\n",
    "axes[0].set_title(a1_description);\n",
    "axes[1].contourf(x, y, A2);\n",
    "axes[1].set_title(a2_description);"
   ],
   "outputs": [],
   "metadata": {}
  }
 ],
 "metadata": {
  "kernelspec": {
   "name": "python3",
   "display_name": "Python 3.9.0 64-bit ('cf-3.9.0': pyenv)"
  },
  "language_info": {
   "codemirror_mode": {
    "name": "ipython",
    "version": 3
   },
   "file_extension": ".py",
   "mimetype": "text/x-python",
   "name": "python",
   "nbconvert_exporter": "python",
   "pygments_lexer": "ipython3",
   "version": "3.9.0"
  },
  "metadata": {
   "interpreter": {
    "hash": "f83ddd6991e62697b8e1c78d35b449f256fb868317b9158045034ef8d7136941"
   }
  },
  "interpreter": {
   "hash": "f83ddd6991e62697b8e1c78d35b449f256fb868317b9158045034ef8d7136941"
  }
 },
 "nbformat": 4,
 "nbformat_minor": 4
}