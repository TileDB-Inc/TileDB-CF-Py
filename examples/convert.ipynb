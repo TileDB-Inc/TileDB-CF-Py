{
 "metadata": {
  "language_info": {
   "codemirror_mode": {
    "name": "ipython",
    "version": 3
   },
   "file_extension": ".py",
   "mimetype": "text/x-python",
   "name": "python",
   "nbconvert_exporter": "python",
   "pygments_lexer": "ipython3",
   "version": "3.9.0"
  },
  "orig_nbformat": 2,
  "kernelspec": {
   "name": "python390jvsc74a57bd0f83ddd6991e62697b8e1c78d35b449f256fb868317b9158045034ef8d7136941",
   "display_name": "Python 3.9.0 64-bit ('cf-3.9.0': pyenv)"
  },
  "metadata": {
   "interpreter": {
    "hash": "f83ddd6991e62697b8e1c78d35b449f256fb868317b9158045034ef8d7136941"
   }
  }
 },
 "nbformat": 4,
 "nbformat_minor": 2,
 "cells": [
  {
   "cell_type": "code",
   "execution_count": null,
   "metadata": {},
   "outputs": [],
   "source": [
    "import netCDF4\n",
    "import numpy as np\n",
    "import tiledb\n",
    "from tiledb.cf import Group, GroupSchema\n",
    "from tiledb.cf.engines.netcdf4_engine import NetCDF4ConverterEngine\n",
    "import matplotlib.pyplot as plt"
   ]
  },
  {
   "source": [
    "# Create an example NetCDF file for the conversion.`\n",
    "netcdf_file = \"output/simple1.nc\"\n",
    "vfs = tiledb.VFS()\n",
    "if not vfs.is_file(netcdf_file):\n",
    "    # Create example numpy dataset\n",
    "    x_data = np.linspace(-5.0, 5.0, 100)\n",
    "    y_data = np.linspace(-5.0, 5.0, 100)\n",
    "    xv, yv = np.meshgrid(x_data, y_data, sparse=True)\n",
    "    A1_data = xv + yv\n",
    "    A2_data = np.sin((xv / 2.0) ** 2 + yv ** 2)\n",
    "    with netCDF4.Dataset(netcdf_file, mode=\"w\") as dataset:\n",
    "        dataset.setncatts({\"title\": \"Simple dataset for examples\"})\n",
    "        dataset.createDimension(\"x\", 100)\n",
    "        dataset.createDimension(\"y\", 100)\n",
    "        A1 = dataset.createVariable(\"A1\", np.float64, (\"x\", \"y\"))\n",
    "        A1.setncattr(\"full_name\", \"Example matrix A1\")\n",
    "        A1.setncattr(\"description\", \"x + y\")\n",
    "        A1[:, :] = A1_data\n",
    "        A2 = dataset.createVariable(\"A2\", np.float64, (\"x\", \"y\"))\n",
    "        A2[:, :] = A2_data\n",
    "        A2.setncattr(\"full_name\", \"Example matrix A2\")\n",
    "        A2.setncattr(\"description\", \"sin((x/2)^2 + y^2\")\n",
    "        x1 = dataset.createVariable(\"x\", np.float64, (\"x\",))\n",
    "        x1[:] = x_data\n",
    "        y = dataset.createVariable(\"y\", np.float64, (\"y\",))\n",
    "        y[:] = y_data\n",
    "    print(f\"Created example NetCDF file `{netcdf_file}`.\")\n",
    "else:\n",
    "    print(f\"Example NetCDF file `{netcdf_file}` already exists.\")\n"
   ],
   "cell_type": "code",
   "metadata": {},
   "execution_count": null,
   "outputs": []
  },
  {
   "cell_type": "code",
   "execution_count": null,
   "metadata": {},
   "outputs": [],
   "source": [
    "converter = NetCDF4ConverterEngine.from_file(\n",
    "    netcdf_file,\n",
    "    dim_dtype = np.uint32,\n",
    "    tiles = {(\"x\", \"y\"): (20,20), (\"x\",): (20,), (\"y\",): (20,)},\n",
    ")\n",
    "converter "
   ]
  },
  {
   "cell_type": "code",
   "execution_count": null,
   "metadata": {},
   "outputs": [],
   "source": [
    "# Rename array names to be more descriptive\n",
    "converter.rename_array('array0', 'x')\n",
    "converter.rename_array('array1', 'matrices')\n",
    "converter.rename_array('array2', 'y')\n",
    "# Run conversion\n",
    "group_uri = \"output/tiledb_simple1\"\n",
    "converter.convert(group_uri)"
   ]
  },
  {
   "cell_type": "code",
   "execution_count": null,
   "metadata": {},
   "outputs": [],
   "source": [
    "group_schema = GroupSchema.load(group_uri)\n",
    "group_schema"
   ]
  },
  {
   "cell_type": "code",
   "execution_count": null,
   "metadata": {},
   "outputs": [],
   "source": [
    "# Example open attribute from generated TileDB group\n",
    "with Group(group_uri, attr=\"x.data\") as group:\n",
    "    x = group.array[:]\n",
    "with Group(group_uri, attr=\"y.data\") as group:\n",
    "    y = group.array[:]\n",
    "with Group(group_uri, array=\"matrices\") as group:\n",
    "    data = group.array[...]\n",
    "    A1 = data[\"A1\"]\n",
    "    A2 = data[\"A2\"]\n",
    "    a1_description = group.get_attr_metadata(\"A1\")[\"description\"]\n",
    "    a2_description = group.get_attr_metadata(\"A2\")[\"description\"]\n"
   ]
  },
  {
   "cell_type": "code",
   "execution_count": null,
   "metadata": {},
   "outputs": [],
   "source": [
    "fig, axes = plt.subplots(nrows=1, ncols=2)\n",
    "axes[0].contourf(x, y, A1);\n",
    "axes[0].set_title(a1_description);\n",
    "axes[1].contourf(x, y, A2);\n",
    "axes[1].set_title(a2_description);"
   ]
  },
  {
   "cell_type": "code",
   "execution_count": null,
   "metadata": {},
   "outputs": [],
   "source": []
  }
 ]
}