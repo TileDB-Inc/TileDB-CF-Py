{
 "cells": [
  {
   "cell_type": "markdown",
   "metadata": {},
   "source": [
    "# Working with Arrays in a TileDB Group\n",
    "\n",
    "This notebook contains an example of how to use TileDB and TileDB-CF to create, inspect, open, read, and write data to arrays in a TileDB group.\n",
    "\n",
    "### Data\n",
    "\n",
    "The following arrays will be created that share some of their dimensions:\n",
    "\n",
    "* `dense_3d` is a dense array with dimensions `dense_x`, `dense_y` and `dense_t`\n",
    "* `dense_2d` is a dense array with dimensions `dense_x` and `dense_y`\n",
    "* `dense_1d` is a dense array with dimension `dense_t`\n",
    "* `sparse_4d` is a sparse array with dimensions `sparse_x` `sparse_y` `sparse_z` and `sparse_t`\n",
    "* `dense_axes_xy` is a dense array that contains the values of the `dense_x` and `dense_y` dimensions as `dense_x_data` and `dense_y_data` \n",
    "* `dense_axes_t` is a dense array that contains the values of the `dense_t` dimension as `dense_t_data`\n",
    "* `sparse_axes` is a sparse array that contains the values of the `sparse_x` `sparse_y` `sparse_z` and `sparse_t` dimensions as `sparse_x_data` `sparse_y_data` `sparse_z_data` and `sparse_t_data`\n",
    "\n",
    "### Packages\n",
    "\n",
    "Import the libraries used in this notebook:"
   ]
  },
  {
   "cell_type": "code",
   "execution_count": null,
   "metadata": {},
   "outputs": [],
   "source": [
    "import time\n",
    "import numpy as np\n",
    "import pandas as pd\n",
    "from mpl_toolkits.mplot3d import Axes3D\n",
    "import matplotlib.pyplot as plt\n",
    "import tiledb\n",
    "from tiledb.cf import AttrMetadata, ArrayMetadata, create_group, open_group_array"
   ]
  },
  {
   "cell_type": "markdown",
   "metadata": {},
   "source": [
    "## Create numpy arrays\n",
    "\n",
    "Variables to set the size of the arrays:"
   ]
  },
  {
   "cell_type": "code",
   "execution_count": null,
   "metadata": {},
   "outputs": [],
   "source": [
    "dense_size = 100\n",
    "sparse_size = 2000\n",
    "t_size = 365"
   ]
  },
  {
   "cell_type": "markdown",
   "metadata": {},
   "source": [
    "Functions used to create a dataset:"
   ]
  },
  {
   "cell_type": "code",
   "execution_count": null,
   "metadata": {},
   "outputs": [],
   "source": [
    "def ripple(x, y, t):\n",
    "    return np.sin(t * (x**2 + y**2)) / (t + 1)\n",
    "\n",
    "\n",
    "def ripple2(x, y, z, t):\n",
    "    return (np.sin(t * (x**2 + y**2)) / (t + 1)) + z"
   ]
  },
  {
   "cell_type": "markdown",
   "metadata": {},
   "source": [
    "### Data for the dense arrays"
   ]
  },
  {
   "cell_type": "code",
   "execution_count": null,
   "metadata": {},
   "outputs": [],
   "source": [
    "dense_x_values = np.arange(1, dense_size + 1)\n",
    "dense_y_values = np.arange(1, dense_size + 1)\n",
    "dense_t_values = np.arange(1, t_size + 1)\n",
    "\n",
    "dense_3d_values = np.fromfunction(\n",
    "    lambda x, y, t: ripple(x, y, t), (dense_size, dense_size, t_size)\n",
    ")\n",
    "\n",
    "dense_2d_values = np.nanmean(dense_3d_values, axis=2)\n",
    "dense_1d_values = np.mean(dense_3d_values, axis=(0, 1))"
   ]
  },
  {
   "cell_type": "code",
   "execution_count": null,
   "metadata": {},
   "outputs": [],
   "source": [
    "dense_3d_values = np.fromfunction(\n",
    "    lambda x, y, t: ripple(x, y, t), (dense_size, dense_size, t_size)\n",
    ")\n",
    "\n",
    "dense_2d_values = np.nanmean(dense_3d_values, axis=2)\n",
    "dense_1d_values = np.mean(dense_3d_values, axis=(0, 1))"
   ]
  },
  {
   "cell_type": "markdown",
   "metadata": {},
   "source": [
    "### Data for the sparse arrays"
   ]
  },
  {
   "cell_type": "code",
   "execution_count": null,
   "metadata": {},
   "outputs": [],
   "source": [
    "sparse_x_values = np.random.randint(1, dense_size + 1, size=(sparse_size))\n",
    "sparse_y_values = np.random.randint(1, dense_size + 1, size=(sparse_size))\n",
    "sparse_z_values = np.random.randint(1, dense_size + 1, size=(sparse_size))\n",
    "sparse_t_values = np.random.randint(1, t_size + 1, size=(sparse_size))\n",
    "\n",
    "sparse_4d_values = ripple2(\n",
    "    sparse_x_values, sparse_y_values, sparse_z_values, sparse_t_values\n",
    ")"
   ]
  },
  {
   "cell_type": "markdown",
   "metadata": {},
   "source": [
    "## Create the TileDB Group\n",
    "\n",
    "* [ArraySchema](https://tiledb-inc-tiledb-py.readthedocs-hosted.com/en/stable/python-api.html#array-schema) \n",
    "* [Domain](https://tiledb-inc-tiledb-py.readthedocs-hosted.com/en/stable/python-api.html#domain)\n",
    "* [Attributes](https://tiledb-inc-tiledb-py.readthedocs-hosted.com/en/stable/python-api.html#tiledb.Attr)\n",
    "* [Dimensions](https://tiledb-inc-tiledb-py.readthedocs-hosted.com/en/stable/python-api.html#dimension) "
   ]
  },
  {
   "cell_type": "code",
   "execution_count": null,
   "metadata": {},
   "outputs": [],
   "source": [
    "dense_x = tiledb.Dim(name=\"dense_x\", domain=(1, dense_size), tile=10, dtype=np.uint64)\n",
    "dense_y = tiledb.Dim(name=\"dense_y\", domain=(1, dense_size), tile=10, dtype=np.uint64)\n",
    "dense_t = tiledb.Dim(name=\"dense_t\", domain=(1, t_size), tile=10, dtype=np.uint64)\n",
    "sparse_x = tiledb.Dim(\n",
    "    name=\"sparse_x\", domain=(1, sparse_size), tile=10, dtype=np.uint64\n",
    ")\n",
    "sparse_y = tiledb.Dim(\n",
    "    name=\"sparse_y\", domain=(1, sparse_size), tile=10, dtype=np.uint64\n",
    ")\n",
    "sparse_z = tiledb.Dim(\n",
    "    name=\"sparse_z\", domain=(1, sparse_size), tile=10, dtype=np.uint64\n",
    ")\n",
    "sparse_t = tiledb.Dim(name=\"sparse_t\", domain=(1, t_size), tile=10, dtype=np.uint64)"
   ]
  },
  {
   "cell_type": "code",
   "execution_count": null,
   "metadata": {},
   "outputs": [],
   "source": [
    "array_schemas = {\n",
    "    \"dense_3d\": tiledb.ArraySchema(\n",
    "        domain=tiledb.Domain(dense_x, dense_y, dense_t),\n",
    "        attrs=[\n",
    "            tiledb.Attr(name=\"dense_3d_data\", dtype=np.float64),\n",
    "        ],\n",
    "    ),\n",
    "    \"dense_2d\": tiledb.ArraySchema(\n",
    "        domain=tiledb.Domain(dense_x, dense_y),\n",
    "        attrs=[\n",
    "            tiledb.Attr(name=\"dense_2d_data\", dtype=np.float64),\n",
    "        ],\n",
    "    ),\n",
    "    \"dense_1d\": tiledb.ArraySchema(\n",
    "        domain=tiledb.Domain(dense_t),\n",
    "        attrs=[\n",
    "            tiledb.Attr(name=\"dense_1d_data\", dtype=np.float64),\n",
    "        ],\n",
    "    ),\n",
    "    \"sparse_4d\": tiledb.ArraySchema(\n",
    "        domain=tiledb.Domain(sparse_x, sparse_y, sparse_z, sparse_t),\n",
    "        attrs=[\n",
    "            tiledb.Attr(name=\"sparse_4d_data\", dtype=np.float64),\n",
    "        ],\n",
    "        sparse=True,\n",
    "        allows_duplicates=True,\n",
    "    ),\n",
    "    \"dense_axes_xy\": tiledb.ArraySchema(\n",
    "        domain=tiledb.Domain(dense_x),\n",
    "        attrs=[\n",
    "            tiledb.Attr(name=\"dense_x_data\", dtype=np.uint64),\n",
    "            tiledb.Attr(name=\"dense_y_data\", dtype=np.uint64),\n",
    "        ],\n",
    "    ),\n",
    "    \"dense_axes_t\": tiledb.ArraySchema(\n",
    "        domain=tiledb.Domain(dense_t),\n",
    "        attrs=[\n",
    "            tiledb.Attr(name=\"dense_t_data\", dtype=np.uint64),\n",
    "        ],\n",
    "    ),\n",
    "    \"sparse_axes\": tiledb.ArraySchema(\n",
    "        domain=tiledb.Domain(sparse_x),\n",
    "        attrs=[\n",
    "            tiledb.Attr(name=\"sparse_x_data\", dtype=np.uint64),\n",
    "            tiledb.Attr(name=\"sparse_y_data\", dtype=np.uint64),\n",
    "            tiledb.Attr(name=\"sparse_z_data\", dtype=np.uint64),\n",
    "            tiledb.Attr(name=\"sparse_t_data\", dtype=np.uint64),\n",
    "        ],\n",
    "        sparse=True,\n",
    "        allows_duplicates=True,\n",
    "    ),\n",
    "}"
   ]
  },
  {
   "cell_type": "markdown",
   "metadata": {},
   "source": [
    "### Create the TileDB Group on disk"
   ]
  },
  {
   "cell_type": "code",
   "execution_count": null,
   "metadata": {},
   "outputs": [],
   "source": [
    "group_uri = \"output/example_group\"\n",
    "if tiledb.object_type(group_uri) is None:\n",
    "    create_group(\"output/example_group\", array_schemas)"
   ]
  },
  {
   "cell_type": "markdown",
   "metadata": {},
   "source": [
    "### Write data to the TileDB Group\n",
    "\n",
    "Writing to dense and sparse arrays uses standard TileDB write operations. Arrays can be opened one-by-one or multiple arrays can be opened at once."
   ]
  },
  {
   "cell_type": "code",
   "execution_count": null,
   "metadata": {},
   "outputs": [],
   "source": [
    "with tiledb.Group(group_uri, mode=\"r\") as group:\n",
    "    with (\n",
    "        open_group_array(group, attr=\"dense_3d_data\", mode=\"w\") as dense_3d_array,\n",
    "        open_group_array(group, attr=\"dense_2d_data\", mode=\"w\") as dense_2d_array,\n",
    "        open_group_array(group, attr=\"dense_1d_data\", mode=\"w\") as dense_1d_array,\n",
    "    ):\n",
    "        dense_3d_array[:] = dense_3d_values\n",
    "        dense_2d_array[:] = dense_2d_values\n",
    "        dense_1d_array[:] = dense_1d_values\n",
    "    with (\n",
    "        open_group_array(group, attr=\"sparse_4d_data\", mode=\"w\") as sparse_data_array,\n",
    "        open_group_array(group, array=\"sparse_axes\", mode=\"w\") as sparse_axes_array,\n",
    "    ):\n",
    "        sparse_data_array[\n",
    "            sparse_x_values, sparse_y_values, sparse_z_values, sparse_t_values\n",
    "        ] = sparse_4d_values\n",
    "        sparse_axes_array[np.arange(sparse_size) + 1] = {\n",
    "            \"sparse_x_data\": sparse_x_values,\n",
    "            \"sparse_y_data\": sparse_y_values,\n",
    "            \"sparse_z_data\": sparse_z_values,\n",
    "            \"sparse_t_data\": sparse_t_values,\n",
    "        }\n",
    "    with (\n",
    "        open_group_array(group, array=\"dense_axes_xy\", mode=\"w\") as xy_array,\n",
    "        open_group_array(\n",
    "            group, array=\"dense_axes_t\", attr=\"dense_t_data\", mode=\"w\"\n",
    "        ) as t_array,\n",
    "    ):\n",
    "        xy_array[:] = {\"dense_x_data\": dense_x_values, \"dense_y_data\": dense_y_values}\n",
    "        t_array[:] = dense_t_values"
   ]
  },
  {
   "cell_type": "markdown",
   "metadata": {},
   "source": [
    "#### Metadata\n",
    "\n",
    "Write Group metadata: "
   ]
  },
  {
   "cell_type": "code",
   "execution_count": null,
   "metadata": {},
   "outputs": [],
   "source": [
    "with tiledb.Group(group_uri, mode=\"w\") as group:\n",
    "    group.meta[\"description\"] = \"Example TileDB Group\"\n",
    "    group.meta[\"version\"] = \"1.0\"\n",
    "    group.meta[\"created on \"] = time.ctime(time.time())"
   ]
  },
  {
   "cell_type": "markdown",
   "metadata": {},
   "source": [
    "Write Array metadata:"
   ]
  },
  {
   "cell_type": "code",
   "execution_count": null,
   "metadata": {},
   "outputs": [],
   "source": [
    "with tiledb.Group(group_uri, mode=\"r\") as group:\n",
    "    with open_group_array(group, array=\"dense_3d\", mode=\"w\") as dense_3d_array:\n",
    "        dense_3d_array.meta[\n",
    "            \"description\"\n",
    "        ] = \"Example 3D dense array with dimensions x, y and t\"\n",
    "    with open_group_array(group, array=\"dense_axes_xy\", mode=\"w\") as xy_array:\n",
    "        xy_array.meta[\n",
    "            \"description\"\n",
    "        ] = \"Values for the x and y dimensions of the 3D dense array\""
   ]
  },
  {
   "cell_type": "markdown",
   "metadata": {},
   "source": [
    "Write Attribute metadata using the `AttrMetadata` class:"
   ]
  },
  {
   "cell_type": "code",
   "execution_count": null,
   "metadata": {},
   "outputs": [],
   "source": [
    "with tiledb.Group(group_uri, mode=\"r\") as group:\n",
    "    with open_group_array(group, array=\"dense_axes_xy\", mode=\"w\") as array:\n",
    "        x_attr_meta = AttrMetadata(array.meta, \"dense_x_data\")\n",
    "        x_attr_meta[\"description\"] = \"Values of x\""
   ]
  },
  {
   "cell_type": "markdown",
   "metadata": {},
   "source": [
    "### Read data from the TileDB Group"
   ]
  },
  {
   "cell_type": "markdown",
   "metadata": {},
   "source": [
    "#### Read the metadata\n",
    "\n",
    "Read the Group metadata keys and their values:"
   ]
  },
  {
   "cell_type": "code",
   "execution_count": null,
   "metadata": {},
   "outputs": [],
   "source": [
    "with tiledb.Group(group_uri) as group:\n",
    "    for key, value in group.meta.items():\n",
    "        print(f\"{key}: {value}\")"
   ]
  },
  {
   "cell_type": "markdown",
   "metadata": {},
   "source": [
    "Read the metadata for the `dense_axes_xy` array. Optionally, you can filter the array attribute data using the `AttrMetadata` and `ArrayMetadata`."
   ]
  },
  {
   "cell_type": "code",
   "execution_count": null,
   "metadata": {},
   "outputs": [],
   "source": [
    "with tiledb.Group(group_uri) as group:\n",
    "    with open_group_array(group, array=\"dense_axes_xy\") as array:\n",
    "        print(\"All metadata in the array:\")\n",
    "        for key, value in array.meta.items():\n",
    "            print(f\"    * {key}: {value}\")\n",
    "        print(\"Only array metadata:\")\n",
    "        for key, value in ArrayMetadata(array.meta).items():\n",
    "            print(f\"    * {key}: {value}\")\n",
    "        print(\"Only attribute metadata for 'dense_x_data':\")\n",
    "        for key, value in AttrMetadata(array.meta, \"dense_x_data\").items():\n",
    "            print(f\"    * {key}: {value}\")"
   ]
  },
  {
   "cell_type": "markdown",
   "metadata": {},
   "source": [
    "#### Read and visualise the data"
   ]
  },
  {
   "cell_type": "code",
   "execution_count": null,
   "metadata": {},
   "outputs": [],
   "source": [
    "with tiledb.Group(group_uri) as group:\n",
    "    with (\n",
    "        open_group_array(group, array=\"dense_3d\", attr=\"dense_3d_data\") as data_array,\n",
    "        open_group_array(group, array=\"dense_axes_xy\") as axes_array,\n",
    "    ):\n",
    "        dense_3d_data = data_array[:]\n",
    "        axes_data = axes_array[...]\n",
    "        dense_x_data = axes_data[\"dense_x_data\"]\n",
    "        dense_y_data = axes_data[\"dense_y_data\"]"
   ]
  },
  {
   "cell_type": "code",
   "execution_count": null,
   "metadata": {},
   "outputs": [],
   "source": [
    "fig, axes = plt.subplots(nrows=2, ncols=2, figsize=(12, 12))\n",
    "axes[0, 0].contourf(dense_x_data, dense_y_data, dense_3d_data[:, :, 33])\n",
    "axes[0, 1].contourf(dense_x_data, dense_y_data, dense_3d_data[:, :, 66])\n",
    "axes[1, 0].contourf(dense_x_data, dense_y_data, dense_3d_data[:, :, 99])\n",
    "axes[1, 1].contourf(dense_x_data, dense_y_data, dense_3d_data[:, :, 95]);"
   ]
  },
  {
   "cell_type": "code",
   "execution_count": null,
   "metadata": {},
   "outputs": [],
   "source": [
    "with tiledb.Group(group_uri) as group:\n",
    "    with open_group_array(group, array=\"sparse_4d\") as array:\n",
    "        df = pd.DataFrame(array[...])\n",
    "\n",
    "df.head()"
   ]
  },
  {
   "cell_type": "code",
   "execution_count": null,
   "metadata": {},
   "outputs": [],
   "source": [
    "df.describe().transpose()"
   ]
  },
  {
   "cell_type": "code",
   "execution_count": null,
   "metadata": {},
   "outputs": [],
   "source": [
    "df.plot.scatter(x=\"sparse_x\", y=\"sparse_4d_data\");"
   ]
  },
  {
   "cell_type": "code",
   "execution_count": null,
   "metadata": {},
   "outputs": [],
   "source": [
    "with tiledb.Group(group_uri) as group:\n",
    "    with open_group_array(group, array=\"dense_1d\") as array:\n",
    "        df2 = pd.DataFrame(array[...])\n",
    "\n",
    "df2.head()"
   ]
  },
  {
   "cell_type": "code",
   "execution_count": null,
   "metadata": {},
   "outputs": [],
   "source": [
    "df2.plot();"
   ]
  },
  {
   "cell_type": "code",
   "execution_count": null,
   "metadata": {},
   "outputs": [],
   "source": []
  }
 ],
 "metadata": {
  "interpreter": {
   "hash": "022b808d35d9188bc114e3dbdd31978ae285e77fefec36d9e39c13a87da8d5e5"
  },
  "kernelspec": {
   "display_name": "Python 3.9.0 64-bit ('cf-3.9.0': pyenv)",
   "name": "python3"
  },
  "language_info": {
   "codemirror_mode": {
    "name": "ipython",
    "version": 3
   },
   "file_extension": ".py",
   "mimetype": "text/x-python",
   "name": "python",
   "nbconvert_exporter": "python",
   "pygments_lexer": "ipython3",
   "version": "3.11.3"
  }
 },
 "nbformat": 4,
 "nbformat_minor": 4
}
