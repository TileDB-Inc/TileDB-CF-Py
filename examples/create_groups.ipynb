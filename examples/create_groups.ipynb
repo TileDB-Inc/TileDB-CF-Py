{
 "metadata": {
  "language_info": {
   "codemirror_mode": {
    "name": "ipython",
    "version": 3
   },
   "file_extension": ".py",
   "mimetype": "text/x-python",
   "name": "python",
   "nbconvert_exporter": "python",
   "pygments_lexer": "ipython3",
   "version": "3.9.0"
  },
  "orig_nbformat": 2,
  "kernelspec": {
   "name": "python390jvsc74a57bd0f83ddd6991e62697b8e1c78d35b449f256fb868317b9158045034ef8d7136941",
   "display_name": "Python 3.9.0 64-bit ('cf-3.9.0': pyenv)"
  }
 },
 "nbformat": 4,
 "nbformat_minor": 2,
 "cells": [
  {
   "cell_type": "code",
   "execution_count": null,
   "metadata": {},
   "outputs": [],
   "source": [
    "import tiledb\n",
    "from tiledb.cf import Group, GroupSchema, VirtualGroup\n",
    "import numpy as np"
   ]
  },
  {
   "cell_type": "code",
   "execution_count": null,
   "metadata": {},
   "outputs": [],
   "source": [
    "# Create a TileDB-CF GroupSchema\n",
    "row = tiledb.Dim(name=\"rows\", domain=(1, 4), tile=4, dtype=np.uint64)\n",
    "col = tiledb.Dim(name=\"cols\", domain=(1, 8), tile=8, dtype=np.uint64)\n",
    "group_schema = GroupSchema(\n",
    "    {\n",
    "        \"matrices\": tiledb.ArraySchema(\n",
    "            domain=tiledb.Domain(row, col), \n",
    "            attrs=[\n",
    "                tiledb.Attr(name=\"A1\", dtype=np.float64), \n",
    "                tiledb.Attr(name=\"A2\", dtype=np.float64), \n",
    "                tiledb.Attr(name=\"A3\", dtype=np.float64),\n",
    "            ],\n",
    "        ),\n",
    "        \"row_vectors\": tiledb.ArraySchema(\n",
    "            domain=tiledb.Domain(row), \n",
    "            attrs=[\n",
    "                tiledb.Attr(name=\"y1\", dtype=np.float64), \n",
    "                tiledb.Attr(name=\"y2\", dtype=np.float64),                \n",
    "            ],\n",
    "        ),\n",
    "        \"column_vectors\": tiledb.ArraySchema(\n",
    "            domain=tiledb.Domain(col), \n",
    "            attrs=[\n",
    "                tiledb.Attr(name=\"x1\", dtype=np.float64), \n",
    "                tiledb.Attr(name=\"x2\", dtype=np.float64), \n",
    "            ],\n",
    "        ),\n",
    "    }\n",
    ")\n",
    "group_schema.set_default_metadata_schema()\n",
    "group_schema"
   ]
  },
  {
   "cell_type": "code",
   "execution_count": null,
   "metadata": {},
   "outputs": [],
   "source": [
    "# Create a TileDB-CF Group\n",
    "uri1 = \"output/create_groups/example1\"\n",
    "uri2 = \"output/create_groups/example2\"\n",
    "create_group = False\n",
    "create_virtual_group = False\n",
    "if create_group:\n",
    "    Group.create(uri1, group_schema)\n",
    "if create_virtual_group:\n",
    "    Group.create(uri2, group_schema, is_virtual=True)"
   ]
  },
  {
   "cell_type": "code",
   "execution_count": null,
   "metadata": {},
   "outputs": [],
   "source": [
    "# Check Example1 was created and try reading/writing\n",
    "example1_schema = GroupSchema.load(uri1)\n",
    "print(f\"Schema is correct: {example1_schema == group_schema}\")\n",
    "with Group(uri1, attr=\"x1\", mode=\"w\") as group:\n",
    "    group.array[:] = np.linspace(0.0, 1.0, 8)\n",
    "    group.meta[\"dataset_name\"] = \"Example group dataset\"\n",
    "with Group(uri1) as group:\n",
    "    print(f\"Dataset name: {group.meta['dataset_name']}\")\n",
    "with Group(uri1, array=\"column_vectors\") as group:\n",
    "    data = group.array[:]\n",
    "    print(\"Column vectors:\")\n",
    "    for attr_name, attr_data in data.items():\n",
    "        print(f\"  {attr_name}: {attr_data}\")"
   ]
  },
  {
   "cell_type": "code",
   "execution_count": null,
   "metadata": {},
   "outputs": [],
   "source": [
    "# Check Example2 was created and try reading/writing\n",
    "#  * Since Example2 is a virtual group, we must create a dictionary\n",
    "#    to the array URIs.\n",
    "array_uris = {\n",
    "    \"__tiledb_group\": uri2,\n",
    "    \"column_vectors\": f\"{uri2}_column_vectors\",\n",
    "    \"row_vectors\": f\"{uri2}_row_vectors\",\n",
    "    \"matrices\": f\"{uri2}_matrices\",\n",
    "}\n",
    "example2_schema = GroupSchema.load_virtual(array_uris)\n",
    "print(f\"Schema is correct: {example2_schema == group_schema}\") \n",
    "with VirtualGroup(array_uris, attr=\"x1\", mode=\"w\") as group:\n",
    "    group.array[:] = np.linspace(0.0, 1.0, 8)\n",
    "    group.meta[\"dataset_name\"] = \"Example group dataset\"\n",
    "with VirtualGroup(array_uris) as group:\n",
    "    print(f\"Dataset name: {group.meta['dataset_name']}\")\n",
    "with VirtualGroup(array_uris, array=\"column_vectors\") as group:\n",
    "    data = group.array[:]\n",
    "    print(\"Column vectors:\")\n",
    "    for attr_name, attr_data in data.items():\n",
    "        print(f\"  {attr_name}: {attr_data}\")"
   ]
  },
  {
   "cell_type": "code",
   "execution_count": null,
   "metadata": {},
   "outputs": [],
   "source": []
  }
 ]
}