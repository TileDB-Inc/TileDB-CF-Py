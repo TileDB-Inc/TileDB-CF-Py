{
 "metadata": {
  "language_info": {
   "codemirror_mode": {
    "name": "ipython",
    "version": 3
   },
   "file_extension": ".py",
   "mimetype": "text/x-python",
   "name": "python",
   "nbconvert_exporter": "python",
   "pygments_lexer": "ipython3",
   "version": "3.9.0"
  },
  "orig_nbformat": 2,
  "kernelspec": {
   "name": "python390jvsc74a57bd0f83ddd6991e62697b8e1c78d35b449f256fb868317b9158045034ef8d7136941",
   "display_name": "Python 3.9.0 64-bit ('cf-3.9.0': pyenv)"
  }
 },
 "nbformat": 4,
 "nbformat_minor": 2,
 "cells": [
  {
   "source": [
    "# Example - Using TileDB Groups\n",
    "In this example, you will see how to use the `Group` and `GroupSchema` classes from TileDB-CF to create, inspect, open, read, and write data to arrays in a TileDB group.\n",
    "\n",
    "First, we import the relevant libraries:"
   ],
   "cell_type": "markdown",
   "metadata": {}
  },
  {
   "cell_type": "code",
   "execution_count": null,
   "metadata": {},
   "outputs": [],
   "source": [
    "import tiledb\n",
    "from tiledb.cf import Group, GroupSchema\n",
    "import numpy as np"
   ]
  },
  {
   "source": [
    "Next, we create a schema for the group from a dictionary of TileDB array schemas. In this example, we will use a group that contains 3 distinct arrays:\n",
    "\n",
    "    1. an array named `matrices` that stores matrices over the TileDB dimensions `row` and `col`;\n",
    "    2. an array named `row_vectors` that stores vectors defined on the dimension `row`;\n",
    "    3. an array named `column_vectors` that stores vectors defined on the dimension `col`.\n"
   ],
   "cell_type": "markdown",
   "metadata": {}
  },
  {
   "source": [
    "# Create a TileDB-CF GroupSchema\n",
    "row = tiledb.Dim(name=\"rows\", domain=(1, 4), tile=4, dtype=np.uint64)\n",
    "col = tiledb.Dim(name=\"cols\", domain=(1, 8), tile=8, dtype=np.uint64)\n",
    "group_schema = GroupSchema(\n",
    "    {\n",
    "        \"matrices\": tiledb.ArraySchema(\n",
    "            domain=tiledb.Domain(row, col), \n",
    "            attrs=[\n",
    "                tiledb.Attr(name=\"A1\", dtype=np.float64), \n",
    "                tiledb.Attr(name=\"A2\", dtype=np.float64), \n",
    "                tiledb.Attr(name=\"A3\", dtype=np.float64),\n",
    "            ],\n",
    "        ),\n",
    "        \"row_vectors\": tiledb.ArraySchema(\n",
    "            domain=tiledb.Domain(row), \n",
    "            attrs=[\n",
    "                tiledb.Attr(name=\"y1\", dtype=np.float64), \n",
    "                tiledb.Attr(name=\"y2\", dtype=np.float64),                \n",
    "            ],\n",
    "        ),\n",
    "        \"column_vectors\": tiledb.ArraySchema(\n",
    "            domain=tiledb.Domain(col), \n",
    "            attrs=[\n",
    "                tiledb.Attr(name=\"x1\", dtype=np.float64), \n",
    "                tiledb.Attr(name=\"x2\", dtype=np.float64), \n",
    "            ],\n",
    "        ),\n",
    "    }\n",
    ")\n",
    "group_schema.set_default_metadata_schema()\n",
    "group_schema"
   ],
   "cell_type": "code",
   "metadata": {},
   "execution_count": null,
   "outputs": []
  },
  {
   "cell_type": "code",
   "execution_count": null,
   "metadata": {},
   "outputs": [],
   "source": [
    "The group schema "
   ]
  },
  {
   "cell_type": "code",
   "execution_count": null,
   "metadata": {},
   "outputs": [],
   "source": []
  },
  {
   "cell_type": "code",
   "execution_count": null,
   "metadata": {},
   "outputs": [],
   "source": []
  },
  {
   "cell_type": "code",
   "execution_count": null,
   "metadata": {},
   "outputs": [],
   "source": []
  },
  {
   "cell_type": "code",
   "execution_count": null,
   "metadata": {},
   "outputs": [],
   "source": []
  }
 ]
}